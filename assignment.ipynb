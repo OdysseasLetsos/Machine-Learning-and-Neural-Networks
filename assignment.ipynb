{
 "cells": [
  {
   "cell_type": "markdown",
   "metadata": {
    "id": "y3Jp_VhCl4te",
    "tags": []
   },
   "source": [
    "# MΥΕ046 – Υπολογιστική Όραση: Χειμερινό εξάμηνο 2024-2025\n",
    "## Εργασία: 30% του συνολικού βαθμού\n",
    "## Διδάσκων: Άγγελος Γιώτης\n",
    "- ΠΑΡΑΔΟΣΗ: **Τρίτη, 14 Ιανουαρίου, 2025 23:59**"
   ]
  },
  {
   "cell_type": "markdown",
   "metadata": {
    "id": "FOXXS2dOl4tj",
    "tags": []
   },
   "source": [
    "# Γενικές Οδηγίες\n",
    "\n",
    "Απαντήστε στα παρακάτω ζητήματα χρησιμοποιώντας Python στο συνημμένο σημειωματάριο Jupyter και ακολουθήστε τις παρακάτω οδηγίες:\n",
    " \n",
    "- Οι ασκήσεις είναι **ατομικές** - δεν επιτρέπεται η μεταξύ σας συνεργασία για την υλοποίηση/παράδοσή τους.\n",
    "\n",
    "- **Δεν** επιτρέπεται να χρησιμοποιήσετε κώδικα που τυχόν θα βρείτε στο διαδίκτυο (είτε αυτούσιο, είτε **παραγόμενο από ΑΙ**). Η χρήση κώδικα τρίτων θα έχει σαν αποτέλεσμα τον αυτόματο μηδενισμό σας.\n",
    "\n",
    "- Όλες οι λύσεις πρέπει να είναι γραμμένες σε αυτό το σημειωματάριο `Jupyter notebook`.\n",
    "\n",
    "- **Εάν** ένα ζήτημα περιλαμβάνει θεωρητική ερώτηση, η απάντηση θα **πρέπει** να συμπεριληφθεί στο τέλος του ζητήματος, σε ξεχωριστό \"Markdown\" κελί.\n",
    "\n",
    "- Ο κώδικάς σας πρέπει να σχολιαστεί εκτενώς! Καλά σχολιασμένος κώδικας θα συνεκτιμηθεί στην αξιολόγησή σας.\n",
    "\n",
    "- Αφού ολοκληρώσετε (υλοποιήσετε και εκτελέσετε) τις απαντήσεις σας στο σημειωματάριο (notebook), εξαγάγετε το notebook ως **PDF** και υποβάλετε, τόσο το σημειωματάριο όσο και το PDF (δηλαδή τα αρχεία `.ipynb` και `.pdf`) στο `turnin` του μαθήματος, μαζί με ένα συνοδευτικό αρχείο `onoma.txt` που θα περιέχει το ον/μο σας και τον Α.Μ. σας. Μια καλή πρακτική για την αποφυγή προβλημάτων απεικόνισης, π.χ., περικοπής εικόνων/κώδικα στα όρια της σελίδας, είναι η μετατροπή του `.ipynb` σε HTML και μετά η αποθήκευση του HTML αρχείου ως PDF.\n",
    "\n",
    "- Οι απαντήσεις θα παραδοθούν με την εντολή: **turnin assignment@mye046 onoma.txt assignment.ipynb assignment.pdf**\n",
    "\n",
    "- Μπορείτε να χρησιμοποιήσετε βασικά πακέτα γραμμικής άλγεβρας (π.χ. `NumPy`, `SciPy`), αλλά δεν επιτρέπεται να χρησιμοποιείτε τα πακέτα/βιβλιοθήκες που επιλύουν άμεσα τα προβλήματα, εκτός και αν αναφέρεται διαφορετικά η χρήση συγκεκριμένου πακέτου σε κάποιο ζήτημα. Αν δεν είστε βέβαιοι για κάποιο συγκεκριμένο πακέτο/βιβλιοθήκη ή συνάρτηση που θα χρησιμοποιήσετε, μη διστάσετε να ρωτήσετε τον διδάσκοντα.\n",
    "\n",
    "- Συνιστάται ιδιαίτερα να αρχίσετε να εργάζεστε στις ασκήσεις σας το συντομότερο δυνατό!\n",
    "\n",
    "**Late Policy:** Εργασίες που υποβάλλονται καθυστερημένα θα λαμβάνουν μείωση βαθμού 10% για κάθε 24 ώρες καθυστέρησης. Οι εργασίες δεν θα γίνονται δεκτές 96 ώρες (4 ημέρες) μετά την προθεσμία παράδοσης. Για παράδειγμα, παράδοση της εργασίας 2 ημέρες μετά την προθεσμία βαθμολογείται με άριστα το 24 (από 30)."
   ]
  },
  {
   "cell_type": "markdown",
   "metadata": {
    "id": "l5pbyh5yl4tk",
    "tags": [],
    "toc-hr-collapsed": true
   },
   "source": [
    "# Intro to Google Colab, Jupyter Notebook - JupyterLab, Python\n",
    "\n",
    "**Εισαγωγή**\n",
    "\n",
    "- Η Εργασία του μαθήματος ΜΥΕ046-Υπολογιστική Όραση περιλαμβάνει 2 Ασκήσεις στο αρχείο `assignment.ipynb`, το οποίο απαιτεί περιβάλλον Jupyter Notebook ή JupyterLab για προβολή και επεξεργασία, **είτε τοπικά** (local machine) στον υπολογιστή σας, **είτε μέσω της υπηρεσίας** νέφους [Google Colab](https://colab.research.google.com/) ή [Colaboratory](https://colab.research.google.com/).\n",
    "\n",
    "\n",
    "**Working remotely on Google Colaboratory**\n",
    "\n",
    "Το [Google Colaboratory](https://colab.research.google.com/) είναι ένας συνδυασμός σημειωματαρίου Jupyter και [Google Drive](https://www.google.com/drive/). Εκτελείται εξ' ολοκλήρου στο cloud και έρχεται προεγκατεστημένο με πολλά πακέτα (π.χ. PyTorch και Tensorflow), ώστε όλοι να έχουν πρόσβαση στις ίδιες εξαρτήσεις/βιβλιοθήκες. Ακόμη πιο ενδιαφέρον είναι το γεγονός ότι το Colab επωφελείται από την ελεύθερη πρόσβαση σε επιταχυντές υλικού (π.χ. κάρτες γραφικών) όπως οι GPU (K80, P100) και οι TPU.\n",
    "\n",
    "- Requirements:\n",
    "\n",
    "Για να χρησιμοποιήσετε το Colab, πρέπει να έχετε λογαριασμό Google με συσχετισμένο Google Drive. Υποθέτοντας ότι έχετε και τα δύο (ο ακαδημαϊκός σας λογαριασμός είναι λογαριασμός google), μπορείτε να συνδέσετε το Colab στο Drive σας με τα ακόλουθα βήματα:\n",
    "\n",
    "1. Κάντε κλικ στον τροχό στην επάνω δεξιά γωνία (στο Google Drive) και επιλέξτε `Ρυθμίσεις`.\n",
    "2. Κάντε κλικ στην καρτέλα `Διαχείριση εφαρμογών`.\n",
    "3. Στο επάνω μέρος, επιλέξτε `Σύνδεση περισσότερων εφαρμογών` που θα εμφανίσουν ένα παράθυρο του `GSuite Marketplace`.\n",
    "4. Αναζητήστε το `Colab` και, στη συνέχεια, κάντε κλικ στην `Προσθήκη` (install).\n",
    "\n",
    "- Workflow:\n",
    "\n",
    "Η εργασία στη σελίδα ecourse του μαθήματος παρέχει έναν σύνδεσμο λήψης σε ένα αρχείο `assignment.zip` που περιέχει:\n",
    "1. `images/`, φάκελος με ενδεικτικές εικόνες των παρακάτω ζητημάτων.\n",
    "2. `assignment.ipynb`, το σημειωματάριo jupyter στο οποίο θα εργαστείτε και θα παραδώσετε. \n",
    "3. `tutorial1_pytorch_introduction.ipynb`, που περιλαμβάνει στοιχειώδη παραδείγματα με χρήση της βιλβιοθήκης βαθιάς μάθησης `PyTorch` (αφορά στη 2η εργασία).\n",
    "4. `Σημειώσεις PCA-SVD.pdf`, σημειώσεις που σχετίζονται με το ζήτημα **1.6** της **1ης** άσκησης.\n",
    "5. `Σημειώσεις CNN.pdf`, σημειώσεις που σχετίζονται με το ζήτημα **2.5** της **2ης** άσκησης.\n",
    "\n",
    "- Βέλτιστες πρακτικές:\n",
    "\n",
    "Υπάρχουν μερικά πράγματα που πρέπει να γνωρίζετε όταν εργάζεστε με την υπηρεσία Colab. Το πρώτο πράγμα που πρέπει να σημειωθεί είναι ότι οι πόροι δεν είναι εγγυημένοι (αυτό είναι το τίμημα της δωρεάν χρήσης). Εάν είστε σε αδράνεια για ένα συγκεκριμένο χρονικό διάστημα ή ο συνολικός χρόνος σύνδεσής σας υπερβαίνει τον μέγιστο επιτρεπόμενο χρόνο (~12 ώρες), το Colab VM θα αποσυνδεθεί. Αυτό σημαίνει ότι οποιαδήποτε μη αποθηκευμένη πρόοδος θα χαθεί. Έτσι, φροντίστε να αποθηκεύετε συχνά την υλοποίησή σας ενώ εργάζεστε.\n",
    "\n",
    "- Χρήση GPU:\n",
    "\n",
    "Η χρήση μιας GPU απαιτεί πολύ απλά την αλλαγή του τύπου εκτέλεσης (runtime) στο Colab. Συγκεκριμένα, κάντε κλικ `Runtime -> Change runtime type -> Hardware Accelerator -> GPU` και το στιγμιότυπο εκτέλεσής σας Colab θα υποστηρίζεται αυτόματα από επιταχυντή υπολογισμών GPU (αλλαγή τύπου χρόνου εκτέλεσης σε GPU ή TPU). Στην παρούσα εργασία, **δεν** θα χρειαστεί η χρήση GPU.\n",
    "\n",
    "\n",
    "**Working locally on your machine**\n",
    "\n",
    "**Linux**\n",
    "\n",
    "Εάν θέλετε να εργαστείτε τοπικά στον Η/Υ σας, θα πρέπει να χρησιμοποιήσετε ένα εικονικό περιβάλλον. Μπορείτε να εγκαταστήσετε ένα μέσω του [Anaconda](https://www.anaconda.com/products/distribution) (συνιστάται) ή μέσω της native μονάδας `venv` της Python. Βεβαιωθείτε ότι χρησιμοποιείτε (τουλάχιστον) έκδοση Python 3.7.\n",
    "\n",
    "- Εικονικό περιβάλλον Anaconda: \n",
    "Συνιστάται η χρήση της δωρεάν διανομής [Anaconda](https://www.anaconda.com/products/distribution), η οποία παρέχει έναν εύκολο τρόπο για να χειριστείτε τις εξαρτήσεις πακέτων. Μόλις εγκαταστήσετε το Anaconda, είναι εύχρηστο να δημιουργήσετε ένα εικονικό περιβάλλον για το μάθημα. Για να ρυθμίσετε ένα εικονικό περιβάλλον που ονομάζεται π.χ. `mye046`, εκτελέστε τα εξής στο τερματικό σας:\n",
    "`conda create -n mye046 python=3.7` (Αυτή η εντολή θα δημιουργήσει το περιβάλλον mye046 στη διαδρομή 'path/to/anaconda3/envs/')\n",
    "Για να ενεργοποιήσετε και να εισέλθετε στο περιβάλλον, εκτελέστε το `conda activate mye046`. Για να απενεργοποιήσετε το περιβάλλον, είτε εκτελέστε `conda deactivate mye046` είτε βγείτε από το τερματικό. Σημειώστε ότι κάθε φορά που θέλετε να εργαστείτε στην εργασία, θα πρέπει να εκτελείτε ξανά το `conda activate mye046`.\n",
    "\n",
    "- Εικονικό περιβάλλον Python venv:\n",
    "Για να ρυθμίσετε ένα εικονικό περιβάλλον που ονομάζεται mye046, εκτελέστε τα εξής στο τερματικό σας:\n",
    "`python3.7 -m venv ~/mye046`\n",
    "Για να ενεργοποιήσετε και να εισέλθετε στο περιβάλλον, εκτελέστε το `source ~/mye046/bin/activate`. Για να απενεργοποιήσετε το περιβάλλον, εκτελέστε: `deactivate` ή έξοδο από το τερματικό. Σημειώστε ότι κάθε φορά που θέλετε να εργαστείτε για την άσκηση, θα πρέπει να εκτελείτε ξανά το `source ~/mye046/bin/activate`.\n",
    "\n",
    "- Εκτέλεση Jupyter Notebook:\n",
    "Εάν θέλετε να εκτελέσετε το notebook τοπικά με το Jupyter, βεβαιωθείτε ότι το εικονικό σας περιβάλλον έχει εγκατασταθεί σωστά (σύμφωνα με τις οδηγίες εγκατάστασης που περιγράφονται παραπάνω για περιβάλλον linux), ενεργοποιήστε το και, στη συνέχεια, εκτελέστε `pip install notebook` για να εγκαταστήσετε το σημειωματάριο `Jupyter`. Στη συνέχεια, αφού κατεβάσετε και αποσυμπιέσετε το φάκελο της Άσκησης από τη σελίδα ecourse σε κάποιο κατάλογο της επιλογής σας, εκτελέστε `cd` σε αυτόν το φάκελο και στη συνέχεια εκτελέστε το σημειωματάριο `jupyter notebook`.\n",
    "Αυτό θα πρέπει να εκκινήσει αυτόματα έναν διακομιστή notebook στη διεύθυνση `http://localhost:8888`. Εάν όλα έγιναν σωστά, θα πρέπει να δείτε μια οθόνη που θα εμφανίζει όλα τα διαθέσιμα σημειωματάρια στον τρέχοντα κατάλογο, στην προκειμένη περίπτωση μόνο το `assignment.ipynb` (η εργασία σας). Κάντε κλικ στο `assignment.ipynb` και ακολουθήστε τις οδηγίες στο σημειωματάριο.\n",
    "\n",
    "\n",
    "**Windows**\n",
    "\n",
    "Τα πράγματα είναι πολύ πιο απλά στην περίπτωση που θέλετε να εργαστείτε τοπικά σε περιβάλλον `Windows`. Μπορείτε να εγκαταστήσετε την [Anaconda](https://www.anaconda.com/products/distribution) για Windows και στη συνέχεια να εκτελέσετε το [Anaconda Navigator](https://docs.anaconda.com/navigator/index.html) αναζητώντας το απευθείας στο πεδίο αναζήτησης δίπλα από το κουμπί `έναρξης` των Windows. Το εργαλείο αυτό παρέχει επίσης άμεσα προεγκατεστημένα, τα πακέτα λογισμικού Jupyter Notebook και JupyterLab τα οποία επιτρέπουν την προβολή και υλοποίηση του σημειοματαρίου Jupyter άμεσα και εύκολα (εκτελώντας το απευθείας από τη διαδρομή αρχείου που βρίσκεται). Ενδεχομένως, κατά την αποθήκευση/εξαγωγή του notebook `assignment.ipynb` σε `assignment.pdf`, να χρειαστεί η εγκατάσταση του πακέτου [Pandoc universal document converter](https://pandoc.org/installing.html) (εκτέλεση: `conda install -c conda-forge pandoc` μέσα από το command prompt του \"activated\" anaconda navigator). Εναλλακτικά, μπορεί να εκτυπωθεί ως PDF αρχείο (**βλ. Ενότητα**: Οδηγίες υποβολής).\n",
    "\n",
    "**Python**\n",
    "\n",
    "Θα χρησιμοποιήσουμε τη γλώσσα προγραμματισμού Python και στις 2 ασκήσεις, με μερικές δημοφιλείς βιβλιοθήκες (`NumPy`, `Matplotlib`) ενώ στη 2η άσκηση θα χρειαστεί και η βιβλιοθήκη βαθιάς μάθησης PyTorch. Αναμένεται ότι πολλοί από εσάς έχετε κάποια εμπειρία σε `Python` και `NumPy`. Και αν έχετε πρότερη εμπειρία σε `MATLAB`, μπορείτε να δείτε επίσης το σύνδεσμο [NumPy for MATLAB users](https://numpy.org/doc/stable/user/numpy-for-matlab-users.html)."
   ]
  },
  {
   "cell_type": "markdown",
   "metadata": {
    "id": "l5pbyh5yl4tk",
    "tags": [],
    "toc-hr-collapsed": true
   },
   "source": [
    "## Άσκηση 1: Μηχανική Μάθηση [15 μονάδες]"
   ]
  },
  {
   "cell_type": "markdown",
   "metadata": {
    "id": "m16Ecnjdl4tk"
   },
   "source": [
    "Στην άσκηση αυτή θα υλοποιήσετε μια σειρά από παραδοσιακές τεχνικές μηχανικής μάθησης με εφαρμογή στην επίλυση προβλημάτων υπολογιστικής όρασης."
   ]
  },
  {
   "cell_type": "markdown",
   "metadata": {
    "id": "zQpyhnvIl4tk"
   },
   "source": [
    "### Ζήτημα 1.1: Αρχική Εγκατάσταση"
   ]
  },
  {
   "cell_type": "markdown",
   "metadata": {
    "id": "CCC0JD1Il4tl"
   },
   "source": [
    "Θα χρησιμοποιήσουμε την ενότητα [Scikit-learn (Sklearn)](https://scikit-learn.org/stable/) για αυτή την άσκηση. Είναι μια από τις πιο χρήσιμες και ισχυρές βιβλιοθήκες για μηχανική μάθηση στην Python. Παρέχει μια επιλογή αποτελεσματικών εργαλείων για μηχανική μάθηση και στατιστική μοντελοποίηση, συμπεριλαμβανομένης της ταξινόμησης (classification), της παλινδρόμησης (regression), της ομαδοποίησης (clustering) και της μείωσης διάστασης (dimensionality reduction). Αυτό το πακέτο, το οποίο είναι σε μεγάλο βαθμό γραμμένο σε Python, βασίζεται στις βιβλιοθήκες NumPy, SciPy και Matplotlib.\n",
    "\n",
    "Αρχικά καλούμε/εγκαθιστούμε τη βασική μονάδα της βιβλιοθήκης sklearn."
   ]
  },
  {
   "cell_type": "code",
   "execution_count": 1,
   "metadata": {
    "id": "8ZiYlaSol4tm"
   },
   "outputs": [
    {
     "data": {
      "text/plain": [
       "'1.5.2'"
      ]
     },
     "execution_count": 1,
     "metadata": {},
     "output_type": "execute_result"
    }
   ],
   "source": [
    "import sklearn\n",
    "sklearn.__version__"
   ]
  },
  {
   "cell_type": "markdown",
   "metadata": {
    "id": "0SQL5iPKl4to"
   },
   "source": [
    "### Ζήτημα 1.2: Λήψη συνόλου δεδομένων χειρόγραφων ψηφίων \"MNIST\" και απεικόνιση παραδειγμάτων [1 μονάδα]"
   ]
  },
  {
   "cell_type": "markdown",
   "metadata": {
    "id": "-_f1_Tz7l4tq"
   },
   "source": [
    "Η βάση δεδομένων [MNIST](https://en.wikipedia.org/wiki/MNIST_database) (Modified National Institute of Standards and Technology database) είναι ένα αρκετά διαδεδομένο σύνολο δεδομένων που αποτελείται από εικόνες χειρόγραφων ψηφίων, διαστάσεων 28x28 σε κλίμακα του γκρι. Για αυτό το ζήτημα, θα χρησιμοποιήσουμε το πακέτο Sklearn για να κάνουμε ταξινόμηση μηχανικής μάθησης στο σύνολο δεδομένων MNIST.\n",
    "\n",
    "Το Sklearn παρέχει μια βάση δεδομένων MNIST χαμηλότερης ανάλυσης με εικόνες ψηφίων 8x8 pixel. Το πεδίο (attribute) `images` του συνόλου δεδομένων, αποθηκεύει πίνακες 8x8 τιμών κλίμακας του γκρι για κάθε εικόνα. Το πεδίο (attribute) `target` του συνόλου δεδομένων αποθηκεύει το ψηφίο που αντιπροσωπεύει κάθε εικόνα. Ολοκληρώστε τη συνάρτηση `plot_mnist_sample()` για να απεικονίσετε σε ένα σχήμα 2x5 ένα δείγμα εικόνας από κάθε μια κατηγορία (κάθε πλαίσιο του 2x5 σχήματος αντιστοιχεί σε ένα ψηφίο/εικόνα μιας κατηγορίας). Η παρακάτω εικόνα δίνει ένα παράδειγμα:\n",
    "<!-- <img src=\"./images/examples_mnist.PNG\" alt=\"drawing\" width=\"400\"/> -->\n",
    "![mnist](images/examples_mnist.PNG) "
   ]
  },
  {
   "cell_type": "code",
   "execution_count": 2,
   "metadata": {
    "id": "vbXpRqO1l4tq"
   },
   "outputs": [],
   "source": [
    "import numpy as np\n",
    "import matplotlib.pyplot as plt\n",
    "from sklearn import datasets"
   ]
  },
  {
   "cell_type": "code",
   "execution_count": 3,
   "metadata": {
    "id": "3PTXSZhWl4tr"
   },
   "outputs": [
    {
     "name": "stdout",
     "output_type": "stream",
     "text": [
      "Images Shape (1797, 8, 8)\n",
      "Image Data Shape (1797, 64)\n",
      "Label Data Shape (1797,)\n"
     ]
    }
   ],
   "source": [
    "# Download MNIST Dataset from Sklearn\n",
    "digits = datasets.load_digits()\n",
    "\n",
    "# Print to show there are 1797 images (8 by 8)\n",
    "print(\"Images Shape\" , digits.images.shape)\n",
    "\n",
    "# Print to show there are 1797 image data (8 by 8 images for a dimensionality of 64)\n",
    "print(\"Image Data Shape\" , digits.data.shape)\n",
    "\n",
    "# Print to show there are 1797 labels (integers from 0-9)\n",
    "print(\"Label Data Shape\", digits.target.shape)"
   ]
  },
  {
   "cell_type": "code",
   "execution_count": 4,
   "metadata": {
    "id": "p43geFB4l4tr"
   },
   "outputs": [],
   "source": [
    "def plot_mnist_sample(digits):\n",
    "     #δημιουργία σχήματος 2x5\n",
    "    fig, axes = plt.subplots(2, 5, figsize=(10, 5))\n",
    "    #δημιουργώ πίνακα με 10 στοιχεία για το κάθε ένα\n",
    "    plot_digits = np.zeros(10, dtype=bool)\n",
    "    #για κάθε εικόνα και ετικέτα\n",
    "    for image, label in zip(digits.images, digits.target):\n",
    "        if not plot_digits[label]:  #αν δεν εμφανιστεί η ετικέτα\n",
    "    \n",
    "            row = label // 5\n",
    "            col = label % 5\n",
    "            pos = axes[row, col]  #θέση στο σχήμα για την εικόνα με το αντίστοιχο ψηφίο\n",
    "            \n",
    "            pos.imshow(image, cmap='gray')  #εμφανίζω την εικόνα στο σχήμα\n",
    "            pos.set_title(f'Digit: {label}')  #τίτλος ετικέτα\n",
    "            pos.axis('off') \n",
    "            \n",
    "            plot_digits[label] = True  #αν συναντήσω το ίδιο ψηφίο θα είνα True έτσι ΄ώστε να μην μπεί στην επόμενη επανάληψη\n",
    "            if np.all(plot_digits):  #αν εμφανίσω όλα τα ωηφια κάνω break την συνάρτηση\n",
    "                break\n",
    "    \n",
    "    plt.tight_layout()#βελτίωση εμφάνισης\n",
    "    plt.figure()\n",
    "    "
   ]
  },
  {
   "cell_type": "code",
   "execution_count": 5,
   "metadata": {
    "id": "xEj8kOdul4tr"
   },
   "outputs": [
    {
     "data": {
      "image/png": "[encoded data removed]",
      "text/plain": [
       "<Figure size 1000x500 with 10 Axes>"
      ]
     },
     "metadata": {},
     "output_type": "display_data"
    },
    {
     "data": {
      "text/plain": [
       "<Figure size 640x480 with 0 Axes>"
      ]
     },
     "metadata": {},
     "output_type": "display_data"
    }
   ],
   "source": [
    "# PLOT CODE: DO NOT CHANGE\n",
    "# This code is for you to plot the results.\n",
    "\n",
    "plot_mnist_sample(digits)"
   ]
  },
  {
   "cell_type": "markdown",
   "metadata": {
    "id": "sD68VE3pl4ts"
   },
   "source": [
    "### Ζήτημα 1.3: Αναγνώριση χειρόγραφων ψηφίων με Sklearn [2 μονάδες]"
   ]
  },
  {
   "cell_type": "markdown",
   "metadata": {
    "id": "W3ctL_Gwl4ts"
   },
   "source": [
    "Ένα από τα πιο ενδιαφέροντα πράγματα σχετικά με τη βιβλιοθήκη Sklearn είναι ότι παρέχει έναν εύκολο τρόπο δημιουργίας και κλήσης/χρήσης διαφορετικών μοντέλων. Σε αυτό το μέρος της άσκησης, θα αποκτήσετε εμπειρία με τα μοντέλα ταξινόμησης `LogisticRegressionClassifier` (ταξινόμηση με λογιστική παλινδρόμηση) και `kNNCalssifier` (ταξινόμηση με τη μέθοδο κ-κοντινότερων γειτόνων).\n",
    "\n",
    "Ακολουθούν αρχικά 2 βοηθητικές ρουτίνες: 1) μια *ρουτίνα δημιουργίας* mini-batches (παρτίδων) δεδομένων *εκπαίδευσης* και *ελέγχου*, αντίστοιχα, 2) μια *ρουτίνα ελέγχου* του εκάστοτε ταξινομητή στις παρτίδες δεδομένων (train/test): α) RandomClassifier(), β) LogisticRegressionClassifier(), γ) kNNClassifier καθώς και των ταξινομητών των ζητημάτων 1.4, 1.5, 1.6 και 2.2, 2.4, 2.5. Στη συνέχεια η συνάρτηση train_test_split() διαχωρίζει το σύνολο δεδομένων σε δεδομένα μάθησης (training set: <X_train, y_train>) και ελέγχου (test set: <X_test, y_test>).\n",
    "\n",
    "Ο κώδικας που ακολουθεί στη συνέχεια ορίζει κάποιες συναρτήσεις/μεθόδους για 3 ταξινομητές: 2 για τον RandomClassifier() και 3 μεθόδους για τους ταξινομητές LogisticRegressionClassifier() και kNNClassifier(). Οι 2 τελευταίες κλάσσεις έχουν μια μέθοδο __init__ για αρχικοποίηση, μια μέθοδο **train** για την εκπαίδευση του μοντέλου και μια μέθοδο __call__ για την πραγματοποίηση προβλέψεων. Πρέπει να συμπληρώσετε τα μέρη κώδικα που λείπουν από τις κλάσεις LogisticRegressionClassifier και kNNClassifier, χρησιμοποιώντας τις υλοποιήσεις `LogisticRegression` και `KNeighborsClassifier` από το Sklearn. Τέλος να συμπληρώσετε τον κώδικα για την αξιολόγηση του `KNeighborsClassifier` ταξινομητή στο σύνολο ελέγχου."
   ]
  },
  {
   "cell_type": "code",
   "execution_count": 6,
   "metadata": {
    "id": "bDZ8BK3Ol4ts"
   },
   "outputs": [],
   "source": [
    "# DO NOT CHANGE\n",
    "#### Some helper functions are given below####\n",
    "def DataBatch(data, label, batchsize, shuffle=True):\n",
    "    \"\"\"\n",
    "    This function provides a generator for batches of data that \n",
    "    yields data (batchsize, 3, 32, 32) and labels (batchsize)\n",
    "    if shuffle, it will load batches in a random order\n",
    "    \"\"\"\n",
    "    n = data.shape[0]\n",
    "    if shuffle:\n",
    "        index = np.random.permutation(n)\n",
    "    else:\n",
    "        index = np.arange(n)\n",
    "    for i in range(int(np.ceil(n/batchsize))):\n",
    "        inds = index[i*batchsize : min(n,(i+1)*batchsize)]\n",
    "        yield data[inds], label[inds]\n",
    "\n",
    "def test(testData, testLabels, classifier):\n",
    "    \"\"\"\n",
    "    Call this function to test the accuracy of a classifier\n",
    "    \"\"\"\n",
    "    batchsize=50\n",
    "    correct=0.\n",
    "    for data,label in DataBatch(testData,testLabels,batchsize,shuffle=False):\n",
    "        prediction = classifier(data)\n",
    "        correct += np.sum(prediction==label)\n",
    "    return correct/testData.shape[0]*100"
   ]
  },
  {
   "cell_type": "code",
   "execution_count": 7,
   "metadata": {
    "id": "QQ0N2RCZl4tt"
   },
   "outputs": [],
   "source": [
    "# DO NOT CHANGE\n",
    "# Split data into 90% train and 10% test subsets\n",
    "from sklearn.model_selection import train_test_split\n",
    "\n",
    "X_train, X_test, y_train, y_test = train_test_split(\n",
    "    digits.images.reshape((len(digits.images), -1)), digits.target, test_size=0.1, shuffle=False)"
   ]
  },
  {
   "cell_type": "code",
   "execution_count": 8,
   "metadata": {
    "id": "m6JnXh3jl4tt"
   },
   "outputs": [],
   "source": [
    "from sklearn.linear_model import LogisticRegression\n",
    "from sklearn.neighbors import KNeighborsClassifier\n",
    "\n",
    "class RandomClassifier():\n",
    "    \"\"\"\n",
    "    This is a sample classifier. \n",
    "    given an input it outputs a random class\n",
    "    \"\"\"\n",
    "    def __init__(self, classes=10):\n",
    "        self.classes=classes\n",
    "    def __call__(self, x):\n",
    "        return np.random.randint(self.classes, size=x.shape[0])\n",
    "    \n",
    "class LogisticRegressionClassifier():\n",
    "    def __init__(self, sol='liblinear'):\n",
    "        \"\"\"\n",
    "        Initialize Logistic Regression model.\n",
    "        \n",
    "        Inputs:\n",
    "        sol: Solver method that the Logistic Regression model would use for optimization\n",
    "        \"\"\"\n",
    "        #υλοποίηση model από sklearn LogisticRegression κατά την αρχικοποίηση του συγκεκριμένου ταξινομητή\n",
    "        self.model = LogisticRegression(solver=sol)\n",
    "        \n",
    "    def train(self, trainData, trainLabels):\n",
    "        \"\"\"\n",
    "        Train your model with image data and corresponding labels.\n",
    "        \n",
    "        Inputs:\n",
    "        trainData: Training images (N,64)\n",
    "        trainLabels: Labels (N,)\n",
    "        \"\"\"\n",
    "        #εκπαίδευση μοντέλου από το σύνολο των data που έχω διασπάσει για εκπα΄ίδευση και αντίστοιχες ετικέτες\n",
    "        self.model.fit(trainData, trainLabels)\n",
    "        \n",
    "    def __call__(self, x):\n",
    "        \"\"\"\n",
    "        Predict the trained model on test data.\n",
    "\n",
    "        Inputs:\n",
    "        x: Test images (N,64)\n",
    "\n",
    "        Returns:\n",
    "        predicted labels (N,)\n",
    "        \"\"\"\n",
    "       \n",
    "        #πρόβλεψη για κάθε test data\n",
    "        return self.model.predict(x)\n",
    "       \n",
    "    \n",
    "class kNNClassifier():\n",
    "    def __init__(self, k=3, algorithm='brute'):\n",
    "        \"\"\"\n",
    "        Initialize KNN model.\n",
    "        \n",
    "        Inputs:\n",
    "        k: number of neighbors involved in voting\n",
    "        algorithm: Algorithm used to compute nearest neighbors\n",
    "        \"\"\"\n",
    "        #υλοποίηση knn model από sklearn μέσω KNeighborsClassifier κάτα την αρχικοποίηση του συγκεκριμένου ταξινομητή \n",
    "        self.model = KNeighborsClassifier(n_neighbors=k, algorithm=algorithm)\n",
    "        \n",
    "    def train(self, trainData, trainLabels):\n",
    "        \"\"\"\n",
    "        Train your model with image data and corresponding labels.\n",
    "        \n",
    "        Inputs:\n",
    "        trainData: Training images (N,64)\n",
    "        trainLabels: Labels (N,)\n",
    "        \"\"\"\n",
    "        #εκπαίδευση συγκεκριμένου model με τα δεδομένα εκπαίδευσης trainData,trainLabels\n",
    "        self.model.fit(trainData, trainLabels)\n",
    "        \n",
    "    def __call__(self, x):\n",
    "        \"\"\"\n",
    "        Predict the trained model on test data.\n",
    "\n",
    "        Inputs:\n",
    "        x: Test images (N,64)\n",
    "\n",
    "        Returns:\n",
    "        predicted labels (N,)\n",
    "        \"\"\"\n",
    "       #πρόβλεψη model από τα test data\n",
    "        return self.model.predict(x)"
   ]
  },
  {
   "cell_type": "code",
   "execution_count": 9,
   "metadata": {
    "id": "ZQ9k9kw-l4tt"
   },
   "outputs": [
    {
     "name": "stdout",
     "output_type": "stream",
     "text": [
      "Random classifier accuracy: 7.222222\n"
     ]
    }
   ],
   "source": [
    "# TEST CODE: DO NOT CHANGE\n",
    "randomClassifierX = RandomClassifier()\n",
    "print ('Random classifier accuracy: %f'%test(X_test, y_test, randomClassifierX))"
   ]
  },
  {
   "cell_type": "code",
   "execution_count": 10,
   "metadata": {
    "id": "tOGbN8GDl4tu"
   },
   "outputs": [
    {
     "name": "stdout",
     "output_type": "stream",
     "text": [
      "Logistic Regression Classifier classifier accuracy: 93.888889\n"
     ]
    }
   ],
   "source": [
    "# TEST CODE: DO NOT CHANGE\n",
    "# TEST LogisticRegressionClassifier\n",
    "\n",
    "lrClassifierX = LogisticRegressionClassifier()\n",
    "lrClassifierX.train(X_train, y_train)\n",
    "print ('Logistic Regression Classifier classifier accuracy: %f'%test(X_test, y_test, lrClassifierX))"
   ]
  },
  {
   "cell_type": "code",
   "execution_count": 11,
   "metadata": {
    "id": "WN3IyTafl4tu"
   },
   "outputs": [
    {
     "name": "stdout",
     "output_type": "stream",
     "text": [
      "k-NN Classifier accuracy: 96.666667\n"
     ]
    }
   ],
   "source": [
    "# TEST kNNClassifier\n",
    "\n",
    "knnClassifierX = kNNClassifier(k=3, algorithm='brute')\n",
    "knnClassifierX.train(X_train, y_train)\n",
    "print('k-NN Classifier accuracy: %f' % test(X_test, y_test, knnClassifierX))\n"
   ]
  },
  {
   "cell_type": "markdown",
   "metadata": {
    "id": "jt39SvrEl4tv"
   },
   "source": [
    "### Ζήτημα 1.4: Πίνακας Σύγχυσης [2 μονάδες]"
   ]
  },
  {
   "cell_type": "markdown",
   "metadata": {
    "id": "9jm0Zmzcl4tv"
   },
   "source": [
    "Ένας πίνακας σύγχυσης είναι ένας 2Δ πίνακας που χρησιμοποιείται συχνά για να περιγράψει την απόδοση ενός μοντέλου ταξινόμησης σε ένα σύνολο δεδομένων ελέγχου/δοκιμής (test data) για τα οποία είναι γνωστές οι πραγματικές τιμές (known labels). Εδώ θα υλοποιήσετε τη συνάρτηση που υπολογίζει τον πίνακα σύγχυσης για έναν ταξινομητή. Ο πίνακας (M) πρέπει να είναι $n \\times n$ όπου $n$ είναι ο αριθμός των κλάσεων/κατηγοριών. Η καταχώριση `M[i,j]` πρέπει να περιέχει το ποσοστό/λόγο των εικόνων της κατηγορίας `i` που ταξινομήθηκε ως κατηγορία `j`. Αν οι καταχωρήσεις `M[i,j]` έχουν υπολογιστεί σωστά, τότε τα στοιχεία `M[k,j]` κατά μήκος μιας γραμμής $k$ για $j \\neq k$ (εκτός της κύριας διαγωνίου) αναμένεται να αντιστοιχούν σε \"ψευδώς αρνητικές\" ταξινομήσεις (false negatives), ενώ τα στοιχεία `M[i,k]` κατά μήκος μιας στήλης $k$ για $i \\neq k$ (εκτός της κύριας διαγωνίου) αναμένεται να αντιστοιχούν σε \"ψευδώς θετικές\" ταξινομήσεις (false positives). Το ακόλουθο παράδειγμα δείχνει τον πίνακα σύγχυσης για τον `RandomClassifier` ταξινομητή. Ο στόχος σας είναι να σχεδιάσετε τα αποτελέσματα για τον `LogisticRegressionClassifier` και τον `kNNClassifier` ταξινομητή. *Να δώσετε προσοχή* στο άθροισμα των στοιχείων μιας γραμμής (false negatives) `M[i,:]` ώστε να αθροίζει σωστά, στο συνολικό ποσοστό ταξινόμησης (100% ή 1). Αν δεν συμβαίνει κάτι τέτοιο, μπορεί να χρειαστείτε κανονικοποίηση των τιμών. \n",
    "\n",
    "<!-- <img src=\"./images/eg_confusion.PNG\" alt=\"drawing\" width=\"250\"/> -->\n",
    "![confusion](images/eg_confusion.PNG) "
   ]
  },
  {
   "cell_type": "code",
   "execution_count": 12,
   "metadata": {
    "id": "HP43z3lOl4tv"
   },
   "outputs": [],
   "source": [
    "from tqdm import tqdm\n",
    "\n",
    "def Confusion(testData, testLabels, classifier):\n",
    "    batchsize=50\n",
    "    correct=0\n",
    "    M=np.zeros((10,10))\n",
    "    num=testData.shape[0]/batchsize\n",
    "    count=0\n",
    "    acc=0\n",
    "    #για κάθε δεδομένο απο τις παρτίδες για τα test data\n",
    "    for data,label in tqdm(DataBatch(testData,testLabels,batchsize,shuffle=False),total=len(testData)//batchsize):\n",
    "        prediction = classifier(data)  #πρόβλεψη ετικέτας\n",
    "        count += data.shape[0] #αυξάνουμε count για κάθε δεδομένο πρόβλεψης το χρησιμοποιούμε για υπολογισμό της ακρίβειας accuracy\n",
    "        \n",
    "        #ενημερώνω πίνακα σύγχυσης M \n",
    "        for i in range(data.shape[0]):\n",
    "            true_label = label[i]  #πραγματική ετικέτα\n",
    "            pred_label = prediction[i]  #πρόβλεψη ετικέτας\n",
    "            M[true_label, pred_label] += 1 #αυξάνουμε το στοιχείο στον πίνακα Confusion\n",
    "    \n",
    "    #κανονικοποίηση γραμμών σε ποσοσ΄τά\n",
    "    for i in range(10):\n",
    "        row_sum = np.sum(M[i, :])#άθροισμα όλων των στοιχείων της γραμμ΄ης μέσω της sum\n",
    "        if row_sum > 0:\n",
    "            M[i, :] /= row_sum  #κάνονικοποίση της συγκεκριμένης γραμμής\n",
    "    \n",
    "    #υπολογισμός της ακρίβειας accuracy\n",
    "    correct = np.trace(M)  #άθροισμα διαγωνίου μέσω της trace\n",
    "    acc = (correct / count) * 100.0 #υπολογισμός ποσοστόύ σωστών ταξινομήσεων απο τις σωστές προβλέψεις προς όλα τα δεδομένα πρόβλεψης \n",
    "    \n",
    "    return M, acc \n",
    "\n",
    "   \n",
    "    \n",
    "def VisualizeConfussion(M):\n",
    "    plt.figure(figsize=(14, 6))\n",
    "    plt.imshow(M)\n",
    "    plt.show()\n",
    "    print(np.round(M,2))"
   ]
  },
  {
   "cell_type": "code",
   "execution_count": 13,
   "metadata": {
    "id": "suvefA82l4tv",
    "scrolled": true
   },
   "outputs": [
    {
     "name": "stderr",
     "output_type": "stream",
     "text": [
      "4it [00:00, 2000.38it/s]                                                                                               \n"
     ]
    },
    {
     "data": {
      "image/png": "[encoded data removed]",
      "text/plain": [
       "<Figure size 1400x600 with 1 Axes>"
      ]
     },
     "metadata": {},
     "output_type": "display_data"
    },
    {
     "name": "stdout",
     "output_type": "stream",
     "text": [
      "[[1.   0.   0.   0.   0.   0.   0.   0.   0.   0.  ]\n",
      " [0.   0.89 0.   0.   0.05 0.   0.   0.   0.05 0.  ]\n",
      " [0.   0.   1.   0.   0.   0.   0.   0.   0.   0.  ]\n",
      " [0.   0.   0.   0.67 0.   0.11 0.   0.   0.22 0.  ]\n",
      " [0.   0.   0.   0.   0.9  0.   0.   0.   0.   0.1 ]\n",
      " [0.   0.   0.   0.   0.   1.   0.   0.   0.   0.  ]\n",
      " [0.   0.   0.   0.   0.   0.   1.   0.   0.   0.  ]\n",
      " [0.   0.   0.   0.   0.   0.   0.   1.   0.   0.  ]\n",
      " [0.   0.   0.   0.   0.   0.   0.   0.   1.   0.  ]\n",
      " [0.   0.   0.   0.06 0.   0.   0.   0.   0.   0.94]]\n"
     ]
    }
   ],
   "source": [
    "# TEST/PLOT CODE: DO NOT CHANGE\n",
    "# TEST LogisticRegressionClassifier\n",
    "\n",
    "M,acc = Confusion(X_test, y_test, lrClassifierX)\n",
    "VisualizeConfussion(M)"
   ]
  },
  {
   "cell_type": "code",
   "execution_count": 14,
   "metadata": {
    "id": "YWZFcKjal4tw"
   },
   "outputs": [
    {
     "name": "stderr",
     "output_type": "stream",
     "text": [
      "4it [00:00, 668.36it/s]                                                                                                \n"
     ]
    },
    {
     "data": {
      "image/png": "[encoded data removed]",
      "text/plain": [
       "<Figure size 1400x600 with 1 Axes>"
      ]
     },
     "metadata": {},
     "output_type": "display_data"
    },
    {
     "name": "stdout",
     "output_type": "stream",
     "text": [
      "[[1.   0.   0.   0.   0.   0.   0.   0.   0.   0.  ]\n",
      " [0.   1.   0.   0.   0.   0.   0.   0.   0.   0.  ]\n",
      " [0.   0.   1.   0.   0.   0.   0.   0.   0.   0.  ]\n",
      " [0.   0.   0.06 0.89 0.   0.06 0.   0.   0.   0.  ]\n",
      " [0.   0.   0.   0.   0.95 0.   0.   0.   0.   0.05]\n",
      " [0.   0.   0.   0.   0.   1.   0.   0.   0.   0.  ]\n",
      " [0.   0.   0.   0.   0.   0.   1.   0.   0.   0.  ]\n",
      " [0.   0.   0.   0.   0.   0.   0.   1.   0.   0.  ]\n",
      " [0.   0.06 0.   0.   0.   0.   0.   0.   0.94 0.  ]\n",
      " [0.   0.   0.   0.06 0.   0.06 0.   0.   0.   0.89]]\n"
     ]
    }
   ],
   "source": [
    "# TEST/PLOT CODE: DO NOT CHANGE\n",
    "# TEST kNNClassifier\n",
    "\n",
    "M,acc = Confusion(X_test, y_test, knnClassifierX)\n",
    "VisualizeConfussion(M)"
   ]
  },
  {
   "cell_type": "markdown",
   "metadata": {
    "id": "0HnFGSRFl4tw"
   },
   "source": [
    "Ζήτημα 3.1.5: κ-Κοντινότεροι Γείτονες (k-Nearest Neighbors/kNN) [4 μονάδες]"
   ]
  },
  {
   "cell_type": "markdown",
   "metadata": {
    "id": "1l8Vxkoil4tw"
   },
   "source": [
    "Για αυτό το πρόβλημα, θα ολοκληρώσετε έναν απλό ταξινομητή kNN χωρίς χρήση του πακέτου Sklearn. Η μέτρηση της απόστασης είναι η Ευκλείδεια απόσταση (L2 norm) στον χώρο των pixel, την οποία και θα πρέπει να υλοποιήσετε (`euclidean_distance`). Το $k$ αναφέρεται στον αριθμό των γειτόνων που συμμετέχουν στην ψηφοφορία για την ομάδα/κλάση. Έπειτα, θα πρέπει να υλοποιήσετε την `find_k_nearest_neighbors` που υπολογίζει την απόσταση του δοθέντος δείγματος από όλα τα δείγματα εκπαίδευσης, ταξινομεί τις αποστάσεις και επιστρέφει τους δείκτες των $k$ κοντινότερων γειτόνων. Τέλος, για κάθε δείγμα του συνόλου δοκιμών, μέσω της ρουτίνας `__call__` βρίσκετε τους $k$ κοντινότερους γείτονες και εκτελείτε \"ψηφοφορία\" για την προβλεπόμενη κλάση."
   ]
  },
  {
   "cell_type": "code",
   "execution_count": 15,
   "metadata": {
    "id": "C-D-znLZl4tx"
   },
   "outputs": [],
   "source": [
    "class kNNClassifier_v1_5():\n",
    "    def __init__(self, k=3):\n",
    "        self.k = k\n",
    "\n",
    "    def train(self, trainData, trainLabels):\n",
    "        \"\"\"Stores the training data.\"\"\"\n",
    "        self.X_train = trainData\n",
    "        self.y_train = trainLabels\n",
    "\n",
    "    def euclidean_distance(self, x1, x2):\n",
    "        \"\"\"Calculates the Euclidean distance between two vectors.\"\"\"\n",
    "        return np.sqrt(np.sum((x1 - x2) ** 2))\n",
    "\n",
    "    def find_k_nearest_neighbors(self, x):\n",
    "        \"\"\"\n",
    "        Finds the k nearest neighbors for the given x.\n",
    "\n",
    "        Returns:\n",
    "        - indices: Indices of the k nearest neighbors.\n",
    "        \"\"\"\n",
    "        #βήματα αλγορίθμου\n",
    "        # Store distance and index\n",
    "        # Sort by distance\n",
    "        # Select the first k indices\n",
    "       \n",
    "        distances = []\n",
    "        \n",
    "        #υπολογισμός ευκλείδιας απόστασης από κάθε δεδομένο εκπαίδευσης και τις αποθηκεύουμε στο πίνακα distances\n",
    "        for i in range(len(self.X_train)):\n",
    "            dist = self.euclidean_distance(x, self.X_train[i])\n",
    "            distances.append((dist, i))\n",
    "        \n",
    "        #ταξινόμηση πίνακα distances με βάση την απόσταση σε αύξουσα σειρά\n",
    "        distances.sort(key=lambda x: x[0])\n",
    "        \n",
    "        #επιστροφή δεικτών index στο πίνακα k_nearest_neighbors για τους k κοντινότερους γείτονες \n",
    "        k_nearest_neighbors = [index for distance, index in distances[:self.k]]\n",
    "        \n",
    "        return k_nearest_neighbors\n",
    "\n",
    "    def __call__(self, X):\n",
    "        \"\"\"\n",
    "        Predicts the labels for the input data using the kNN method.\n",
    "\n",
    "        Input:\n",
    "        - X: Test data array (N, d=64), where N is the number of samples and d is the dimensionality.\n",
    "\n",
    "        Returns:\n",
    "        - predicted_labels: Array of predicted labels (N,).\n",
    "        \"\"\"  \n",
    "        predicted_labels = []\n",
    "        # For each nearest k\n",
    "        # Find the k nearest neighbors\n",
    "        # Store corresponding Labels of the k neighbors\n",
    "        # \"Vote\" for the most frequent label\n",
    "       \n",
    "        #για κάθε δειγμα του συνόλου test\n",
    "        for x in X:\n",
    "            \n",
    "            #επιστρέφουμε τους δείκτες k κοντινότερων γειτόνων μέσω της find_k_nearsest_neighbors για το αντίστοιχο δείγμα συνόλου\n",
    "            neighbors = self.find_k_nearest_neighbors(x)\n",
    "            \n",
    "            #ψηφοφορία για την πιο συχνή ετικέτα μεταξύ των γειτόνων \n",
    "            #αποθήκευση ετικετών από τους δείκτες των k κοντινότερων γειτόνων στον πίνακα labels\n",
    "            labels = [self.y_train[i] for i in neighbors]\n",
    "            #αποφασίζει ετικέτα που εμφανίζεται πιο συχνά στους k κοντινότερους γείτονες με την μέθοδο max\n",
    "            #set μετατρέπει σε σύνολο τον πίνακα labels ετσι ώστε να μην έχουμε επαναλαμβανόμενα στοιχεία και επίσης η labels.count μετρά πόσες φορές εμφανίζεται το κάθε στοιχείο-ψηφίο \n",
    "            predicted_label = max(set(labels), key=labels.count)\n",
    "            #επέκταση του πίνακα predicted_labels με την ετικέτα του κάθε δείγματος που προήλθε απότην ψηφοφορία\n",
    "            predicted_labels.append(predicted_label)\n",
    "        \n",
    "        return np.array(predicted_labels)"
   ]
  },
  {
   "cell_type": "code",
   "execution_count": 16,
   "metadata": {
    "id": "wPVvwhp0l4tx"
   },
   "outputs": [
    {
     "name": "stdout",
     "output_type": "stream",
     "text": [
      "kNN classifier accuracy: 95.555556\n"
     ]
    }
   ],
   "source": [
    "# TEST/PLOT CODE: DO NOT CHANGE\n",
    "# TEST kNNClassifierManual\n",
    "\n",
    "knnClassifierManualX = kNNClassifier_v1_5()\n",
    "knnClassifierManualX.train(X_train, y_train)\n",
    "print ('kNN classifier accuracy: %f'%test(X_test, y_test, knnClassifierManualX))"
   ]
  },
  {
   "cell_type": "markdown",
   "metadata": {
    "id": "jZQQIiKPnRQF"
   },
   "source": [
    "### Ζήτημα 1.6: PCA + κ-κοντινότεροι γείτονες (PCA/k-NN) [6 μονάδες] \n",
    "\n",
    "Σε αυτό το ζήτημα θα εφαρμόσετε έναν απλό ταξινομητή kNN, αλλά στον χώρο PCA, δηλαδή όχι τον χώρο των πίξελ, αλλά αυτόν\n",
    "που προκύπτει μετά από ανάλυση σε πρωτεύουσες συνιστώσες των εικόνων του συνόλου εκπαίδευσης (για k=3 και 25 πρωτεύουσες συνιστώσες).\n",
    "\n",
    "Θα πρέπει να υλοποιήσετε μόνοι σας την PCA χρησιμοποιώντας \"Singular Value Decomposition (SVD)\".\n",
    "Η χρήση του `sklearn.decomposition.PCA` ή οποιουδήποτε άλλου πακέτου που υλοποιεί άμεσα μετασχηματισμούς PCA **θα οδηγήσει σε μείωση μονάδων**. Μπορείτε να χρησιμοποιήσετε τη ρουτίνα `np.linalg.eigh` για την υλοποίησή σας. Προσοχή στον χειρισμό μηδενικών `singular values` μέσα στην υλοποίηση της `svd`.\n",
    "\n",
    "Μπορείτε να χρησιμοποιήσετε την προηγούμενη υλοποίηση του ταξινομητή `kNNClassifier_v1_5` σε αυτό το ζήτημα (Υπόδειξη: ορισμός πεδίου `self.knn = ...` μέσα στην `__init__`). Διαφορετικά, μπορείτε να υλοποιήσετε εκ νέου τον ταξινομητή kNN μέσα στην `__call__` με χρήση της `np.linalg.norm`. Μη ξεχάσετε να καλέσετε την προηγούμενη υλοποίηση του πίνακα σύγχυσης `Confusion` για την αξιολόγηση της μεθόδου στο τέλος του ζητήματος.\n",
    "\n",
    "Είναι ο χρόνος ελέγχου για τον ταξινομητή PCA-kNN μεγαλύτερος ή μικρότερος από αυτόν για τον ταξινομητή kNN; Εφόσον διαφέρει, **σχολιάστε** γιατί στο τέλος της άσκησης."
   ]
  },
  {
   "cell_type": "code",
   "execution_count": 18,
   "metadata": {
    "id": "e06z90dxm7Af",
    "scrolled": true,
    "tags": []
   },
   "outputs": [
    {
     "name": "stdout",
     "output_type": "stream",
     "text": [
      "PCA-kNN classifier accuracy: 85.555556\n"
     ]
    }
   ],
   "source": [
    "import numpy as np\n",
    "def svd(A):\n",
    "    #μηχανισμός SVD   \n",
    "    \n",
    "    #υπολογισμός συμμετρικού πίνακα ATA\n",
    "    ATA = A.T @ A\n",
    "    \n",
    "    #υπολογισμός ιδιοτιμών(eig_vals) και ιδιοδιανυσμάτων(eig_vecs) μέσω της np.linalg.eigh\n",
    "    eig_vals, eig_vecs = np.linalg.eigh(ATA)\n",
    "    \n",
    "    #ταξινόμηση ιδιοτιμών(eig_vals) και ιδιοδιανυσμάτων(eig_vecs) σε φθίνουσα σείρα \n",
    "    idx = np.argsort(eig_vals)[::-1]\n",
    "    eig_vals = eig_vals[idx]\n",
    "    eig_vecs = eig_vecs[:, idx]\n",
    "   \n",
    "    eig_vals = np.maximum(eig_vals, 0)\n",
    "    \n",
    "    #υπολογισμός singular_values όπου είναι οι τετραγωνικές ρίζες των ιδιοτιμών(eig_vals) του ATA\n",
    "    singular_values = np.sqrt(eig_vals)\n",
    "    singular_values[singular_values == 0] = 1e-10 \n",
    "    \n",
    "    #υπολογισμός U ο οποίος περίεχει ιδιοδιανύσματα(eig_vecs)\n",
    "    U = A @ eig_vecs / singular_values\n",
    "    \n",
    "    return U, singular_values, eig_vecs.T\n",
    "   \n",
    "\n",
    "\n",
    "\n",
    "    \n",
    "class PCAKNNClassifer():\n",
    "    def __init__(self, components=25, k=3):\n",
    "        \"\"\"\n",
    "        Initialize PCA kNN classifier\n",
    "\n",
    "        Inputs:\n",
    "        components: number of principal components\n",
    "        k: number of neighbors involved in voting\n",
    "        \"\"\"\n",
    "        #αρχικοποίηση PCA knn classifier με 25 κύριες συνιστώσες και k=3\n",
    "        self.components = components\n",
    "        self.k = k\n",
    "       \n",
    "        \n",
    "    def train(self, trainData, trainLabels):\n",
    "        \"\"\"\n",
    "        Train your model with image data and corresponding labels.\n",
    "        \n",
    "        Inputs:\n",
    "        trainData: Training images (N,64)\n",
    "        trainLabels: Labels (N,)\n",
    "        \"\"\"\n",
    "        #εκπαίδευση model με τα δεδομένα εκπαίδευσης trainData και τα αντίστοιχα trainLabels\n",
    "        #κεντρικοποίση των δεδομένων αφαιρόντας την μέση τιμή απο το δεδομένα εκπαίδευσης trainData\n",
    "        mean_train = np.mean(trainData, axis=0)\n",
    "        X_hat = trainData - mean_train\n",
    "        #εφαρμογή svd για τα κεντρικοποιημένα δεδομένα\n",
    "        U, singular_values, V_T = svd(X_hat)\n",
    "        \n",
    "        #διατήρηση των k κύριων components  25 συνιστωσών\n",
    "        self.U = U[:, :self.components]\n",
    "        self.singular_values = singular_values[:self.components]\n",
    "        self.V_T = V_T[:self.components, :]\n",
    "        \n",
    "        #πίνακας μετασχηματισμού δεδομένων από τα κεντρικοποιημένα δεδομένα στον χώρο κυρίων συνιστωσών\n",
    "        self.transformed_trainData = X_hat @ self.V_T.T\n",
    "        \n",
    "        #αποθήκευση ετικετών των δεδομένων εκπαίδευσης ως attribute αυτου του αντικειμένου\n",
    "        self.trainLabels = trainLabels\n",
    "        \n",
    "    def __call__(self, x):\n",
    "        \"\"\"\n",
    "        Predict the trained model on test data.\n",
    "\n",
    "        Inputs:\n",
    "        x: Test images (N,64)\n",
    "\n",
    "        Returns:\n",
    "        predicted labels (N,)\n",
    "        \"\"\"\n",
    "        \n",
    "        #κεντρικο΄ποίση των δεδομένων δοκιμής test data αφαιρώντας την μέση τιμή απο αυτα\n",
    "        mean_x = np.mean(x, axis=0)\n",
    "        X_hat_test = x - mean_x\n",
    "        \n",
    "        #μετατ΄ρεπει τα δεδομλενα δοκιμλης στον χώρο κλυριων συνιστωσών\n",
    "        transformed_testData = X_hat_test @ self.V_T.T\n",
    "        \n",
    "        #εφαρμογή του knn_predict στο χώρο των κυρίων συνiστωσών για πρόβλεψη\n",
    "        predicted_labels = self.knn_predict(transformed_testData)\n",
    "        \n",
    "        return predicted_labels\n",
    "    #ταξινομη΄τής knn\n",
    "    def knn_predict(self, testData):\n",
    "        \n",
    "        #εκτελεί την πρόβλεψη\n",
    "        #είσοδος testData,δεδομένα δοκιμής στον χώρο των κύριων συνιστωσών.\n",
    "        #επιστρέφει πίνακα predicted_labels, προβλεπόμενες ετικέτες για τα αντίστοιχα δεδομένα δοκιμής.\n",
    "        \n",
    "        #υπολογισμός αποστάσεων μεταξυ δεδομενων δοκιμής από κάθε δείγμα δεδομένων εκπαίδευσης μέσω μεσχηματισμών χρησιμοποιώντας την np.linalg.norm \n",
    "        distances = np.linalg.norm(self.transformed_trainData[:, np.newaxis] - testData, axis=2)\n",
    "        \n",
    "        #επιλο΄γή των k κοντινότερων γειτόνων και αποθήκευση στον πίνακα k_nearest_neighbors \n",
    "        k_nearest_neighbors = np.argsort(distances, axis=0)[:self.k]\n",
    "        \n",
    "        #πρόβλεψη των αντίστοιχων ετικετών με βάση την ψηφοφορία των k κοντινότερων γειτόνων \n",
    "        predicted_labels = [ ]\n",
    "        for neighbors in k_nearest_neighbors.T:\n",
    "            #ετικέτες k κοντινότερων γειτόνων\n",
    "            neighbor_labels = self.trainLabels[neighbors]\n",
    "            #πλήθος εμφανισης ετικετών τών k κοντινότερων γειτόνων μέσω της np.bincount\n",
    "            label_counts = np.bincount(neighbor_labels)\n",
    "            #ετικέτα που εμφανιζέται περισσότερο\n",
    "            predicted_label = label_counts.argmax()\n",
    "            #προσθήκη πρόβλεψης ετικέτας στον πίνακα predicted_labels\n",
    "            predicted_labels.append(predicted_label)\n",
    "            \n",
    "        return np.array(predicted_labels)\n",
    "        \n",
    "\n",
    "# test your classifier with only the first 100 training examples (use this\n",
    "# while debugging)\n",
    "pcaknnClassiferX = PCAKNNClassifer()\n",
    "pcaknnClassiferX.train(X_train[:100], y_train[:100])\n",
    "print ('PCA-kNN classifier accuracy: %f'%test(X_test, y_test, pcaknnClassiferX))"
   ]
  },
  {
   "cell_type": "code",
   "execution_count": 19,
   "metadata": {
    "id": "eSbD_cdeoOY5"
   },
   "outputs": [
    {
     "name": "stderr",
     "output_type": "stream",
     "text": [
      "4it [00:00, 36.46it/s]                                                                                                 \n"
     ]
    },
    {
     "name": "stdout",
     "output_type": "stream",
     "text": [
      "PCA-kNN classifier accuracy: 96.111111\n"
     ]
    },
    {
     "data": {
      "image/png": "[encoded data removed]",
      "text/plain": [
       "<Figure size 1400x600 with 1 Axes>"
      ]
     },
     "metadata": {},
     "output_type": "display_data"
    },
    {
     "name": "stdout",
     "output_type": "stream",
     "text": [
      "[[1.   0.   0.   0.   0.   0.   0.   0.   0.   0.  ]\n",
      " [0.   1.   0.   0.   0.   0.   0.   0.   0.   0.  ]\n",
      " [0.   0.   1.   0.   0.   0.   0.   0.   0.   0.  ]\n",
      " [0.   0.   0.   0.89 0.   0.06 0.   0.   0.   0.06]\n",
      " [0.   0.   0.   0.   0.95 0.   0.   0.   0.   0.05]\n",
      " [0.   0.   0.   0.   0.   1.   0.   0.   0.   0.  ]\n",
      " [0.   0.   0.   0.   0.   0.   1.   0.   0.   0.  ]\n",
      " [0.   0.   0.   0.   0.   0.   0.   1.   0.   0.  ]\n",
      " [0.   0.06 0.   0.   0.   0.   0.   0.06 0.88 0.  ]\n",
      " [0.   0.   0.   0.06 0.   0.06 0.   0.   0.   0.89]]\n"
     ]
    }
   ],
   "source": [
    "# test your classifier with all the training examples\n",
    "pcaknnClassifer = PCAKNNClassifer()\n",
    "pcaknnClassifer.train(X_train, y_train)\n",
    "# display confusion matrix for your PCA KNN classifier with all the training examples\n",
    "\n",
    "#υπολογισμός του πίνακα σύγχυσης και της ακρίβειας μέσψ του μηχανισμού Confusion\n",
    "M_pca, accuracy = Confusion(X_test, y_test, pcaknnClassifer)\n",
    "\n",
    "# Display the accuracy and visualize the confusion matrix\n",
    "print ('PCA-kNN classifier accuracy: %f'%test(X_test, y_test, pcaknnClassifer))\n",
    "#οπτικοποίηση Confusion \n",
    "VisualizeConfussion(M_pca)"
   ]
  },
  {
   "cell_type": "markdown",
   "metadata": {
    "id": "iuQfPRnEpM9c"
   },
   "source": [
    "- Σχολιασμός του χρόνου εκτέλεσης PCA-kNN σε σχέση με τον kNN.\n",
    "\"\"\" Αρχικά ο PCA είναι μια τεχνική μείωσης διαστάσεων σε ένα σύνολο δεδομένων.Αυτός ο μηχανισμός μας δίνει την δυνατότητα αντί να χρησιμοποιούμε τις αρχικές διαστάσεις ,να αναπαραστήσομε τα δεδομένα σε ένα νέο χώρο που εφαρμόζοντας αυτόν,να μειώνονται οι διαστάσεις στις σημαντικότερες στοχεύοντας στην καλύτερη απόδοση.Στην συγκεκριμένη άσκηση μας δόθηκε η δυνατότητα συνδυασμού PCA με ταξινομητή knn προς υλοποίηση και αξιολόγησης αυτου σε σχεση με τον απλό knn.Επίσης αυτό που παρατηρήθηκε είναι ότι για τον απλό ταξινομητή knn ο χρόνος εκτέλεσης είναι πιο αργός,διότι υπάρχει μεγαλύτερο κόστος όσον αφορα τον υπολογισμό απόστασης που θα πρεπει να πραγματοποιηθει σε καθε δειγμα προς ολα τα δειγματα εκπαιδευσης,ειδικα οταν τα δεδομενα ειναι πολλων διαστάσεων,ενώ ο χρόνος εκτέλεσης PCA σε συνδυασμό με knn είναι πιο γρήγορος,για τον λόγο ότι το σύνολο δεδομένων έχει μειωθεί σε μικρότερες διαστάσεις,ειδικά για δεδομένα πολλών διαστάσεων, που έχει ως αποτέλεσμα την ταχύτερη πρόβλεψη.Η επιπλέον χρονική επιβάρυνση του PCA οφείλεται στην εκπαίδευση αυτού καθώς προσθέτει ένα επιπλέον υπολογιστικό κόστος για να πραγματοποιηθεί η διάσπαση σε κύριες συνιστώσες.\"\"\""
   ]
  },
  {
   "cell_type": "markdown",
   "metadata": {
    "id": "R8ol8VCDpV8Q"
   },
   "source": [
    "## Άσκηση 2: Βαθιά Μάθηση [15 μονάδες + bonus 5 μονάδες (ζήτημα 2.5)]\n"
   ]
  },
  {
   "cell_type": "markdown",
   "metadata": {
    "id": "aYf3GsdmpfvS"
   },
   "source": [
    "### Ζήτημα 2.1 Αρχική Εγκατάσταση (απεικόνιση παραδειγμάτων) [1 μονάδα]\n",
    "\n",
    "- **Τοπικά** (jupyter):\n",
    "Ακολουθήστε τις οδηγίες στη διεύθυνση https://pytorch.org/get-started/locally/ για να εγκαταστήσετε την PyΤorch τοπικά στον υπολογιστή σας.\n",
    "Για παράδειγμα, αφού δημιουργήσετε και ενεργοποιήσετε κάποιο εικονικό περιβάλλον anaconda με τις εντολές: π.χ. `(base)$ conda create -n askisi`, `(base)$ conda activate askisi`, η εντολή `(askisi)$ conda install pytorch torchvision torchaudio cpuonly -c pytorch` εγκαθιστά την βιβλιοθήκη \"PyTorch\" σε περιβάλλον Linux/Windows χωρίς GPU υποστήριξη.\n",
    "\n",
    "**Προσοχή** σε αυτό το σημείο, αν τρέχετε την άσκηση τοπικά σε jupyter, εκτός της εγκατάστασης του PyTorch, θα χρειαστούν ξανά και κάποιες βιβλιοθήκες `matplotlib`, `scipy`, `tqdm` και `sklearn` (όπως και στην 1η άσκηση), μέσα στο περιβάλλον 'askisi', πριν ανοίξετε το jupyter: `(askisi)$ conda install matplotlib tqdm scipy` και `(askisi)$ conda install -c anaconda scikit-learn`. Αυτό χρειάζεται διότι σε ορισμένες περιπτώσεις, αφού εγκαταστήσετε τις βιβλιοθήκες που απαιτούνται, πρέπει να εξασφαλίσετε ότι ο *Python Kernel* αναγνωρίζει την προϋπάρχουσα εγκατάσταση (PyTorch, matplotlib, tqdm, κτλ.).\n",
    "Τέλος, χρειάζεται να εγκαταστήσετε το jupyter ή jupyterlab μέσω του περιβάλλοντος conda: `(askisi)$ conda install jupyter` και μετά να εκτελέσετε `(askisi)$ jupyter notebook` για να ανοίξετε το jupyter με τη σωστή εγκατάσταση. Αν όλα έχουν γίνει σωστά, θα πρέπει ο *Python Kernel* να βλέπει όλα τα 'modules' που χρειάζεστε στη 2η άσκηση. Διαφορετικά, μπορείτε να εγκαταστήσετε εξ' αρχής όλες τις βιβλιοθήκες, από την αρχή υλοποίησης της εργασίας, μέσα στο εικονικό περιβάλλον *askisi* ώστε να μην είναι απαραίτητη εκ νέου η εγκατάσταση των βιβλιοθηκών που θα χρειαστούν στη 2η άσκηση.\n",
    "\n",
    "- **Colab**: **Αν** χρησιμοποιείτε google colab, τότε δεν θα χρειαστεί λογικά κάποιο βήμα εγκατάστασης. Αν ωστόσο σας παρουσιαστεί κάποιο πρόβλημα με απουσία πακέτου, π.χ. \"ModuleNotFoundError - torchvision\", τότε μπορείτε απλώς να το εγκαταστήσετε με χρήση του εργαλείου `pip` εκτελώντας την αντίστοιχη εντολή (π.χ. \"!pip install torchvision\") σε ένα νέο κελί του notebook.\n",
    "\n",
    "Σημείωση: Δεν θα είναι απαραίτητη η χρήση GPU για αυτήν την άσκηση, γι' αυτό μην ανησυχείτε αν δεν έχετε ρυθμίσει την εγκατάσταση με υποστήριξη GPU. Επιπλέον, η εγκατάσταση με υποστήριξη GPU είναι συχνά πιο δύσκολη στη διαμόρφωση, γι' αυτό και προτείνεται να εγκαταστήσετε μόνο την έκδοση CPU. \n",
    "\n",
    "Εκτελέστε τις παρακάτω εντολές για να επαληθεύσετε την εγκατάστασή σας (PyTorch)."
   ]
  },
  {
   "cell_type": "code",
   "execution_count": 20,
   "metadata": {
    "id": "nQC44M9Rp1VR"
   },
   "outputs": [
    {
     "name": "stdout",
     "output_type": "stream",
     "text": [
      "tensor([[8.5758e-01, 2.3616e-01, 4.4705e-01],\n",
      "        [7.5031e-01, 8.7605e-01, 1.4129e-01],\n",
      "        [5.0008e-01, 7.5036e-01, 4.9226e-01],\n",
      "        [9.0900e-02, 4.8139e-01, 5.8575e-01],\n",
      "        [4.3797e-04, 3.9678e-01, 6.6389e-01]])\n"
     ]
    }
   ],
   "source": [
    "import scipy\n",
    "import torch.nn as nn\n",
    "import torch.nn.functional as F\n",
    "import torch\n",
    "from torch.autograd import Variable\n",
    "\n",
    "# create a tensor of 5x3 random-valued array\n",
    "x = torch.rand(5, 3)\n",
    "print(x)"
   ]
  },
  {
   "cell_type": "markdown",
   "metadata": {
    "id": "Ai7Lktn5tLBz"
   },
   "source": [
    "Σε αυτή την άσκηση, θα χρησιμοποιήσουμε το πλήρες σύνολο δεδομένων της βάσης δεδομένων MNIST με τις εικόνες ψηφίων 28x28 pixel (60.000 εικόνες εκπαίδευσης, 10.000 εικόνες ελέγχου).\n",
    "\n",
    "Ο κώδικας που ακολουθεί \"κατεβάζει\" το σύνολο δεδομένων MNIST της κλάσης [torchvision.datasets](https://pytorch.org/vision/main/generated/torchvision.datasets.MNIST.html#torchvision.datasets.MNIST), στο φάκελο `mnist` (του root καταλόγου). \n",
    "Μπορείτε να αλλάξετε τον κατάλογο που δείχνει η μεταβλητή `path` στη διαδρομή που επιθυμείτε. Ενδεικτικό `path` σε περιβάλλον Windows: **path = 'C:/Users/user/Υπολογιστική Όραση/assignments/assignment/'**. Στην περίπτωση που εργάζεστε μέσω **colab** μπορεί να χρειαστεί η φόρτωση του καταλόγου στο drive, εκτελώντας `from google.colab import drive` και `drive.mount('/content/gdrive')` και μετά θέτοντας π.χ το **path = '/content/gdrive/assignment/'**.\n",
    "\n",
    "- Θα πρέπει να απεικονίσετε σε ένα σχήμα 2x5 ένα τυχαίο παράδειγμα εικόνας που αντιστοιχεί σε κάθε ετικέτα (κατηγορία) από τα δεδομένα εκπαίδευσης (αντίστοιχα του ζητήματος 1.2)."
   ]
  },
  {
   "cell_type": "code",
   "execution_count": 21,
   "metadata": {},
   "outputs": [],
   "source": [
    "import torch\n",
    "import torchvision.datasets as datasets\n",
    "\n",
    "# import additional libs in case not already done in 'askisi 1'\n",
    "import matplotlib.pyplot as plt\n",
    "import numpy as np\n",
    "\n",
    "# Define the dataset directory\n",
    "path = './mnist/'\n",
    "\n",
    "# Load the MNIST training dataset\n",
    "train_dataset = datasets.MNIST(root=path, train=True, download=True)\n",
    "\n",
    "# Extract the images and labels from the training dataset\n",
    "X_train = train_dataset.data.numpy()\n",
    "y_train = train_dataset.targets.numpy()\n",
    "\n",
    "# Load the MNIST testing dataset\n",
    "test_dataset = datasets.MNIST(root=path, train=False, download=True)\n",
    "\n",
    "# Extract the images and labels from the testing dataset\n",
    "X_test = test_dataset.data.numpy()\n",
    "y_test = test_dataset.targets.numpy()\n"
   ]
  },
  {
   "cell_type": "code",
   "execution_count": 22,
   "metadata": {
    "id": "E5tK3MeXN5v2"
   },
   "outputs": [],
   "source": [
    "def plot_mnist_sample_high_res(X_train, y_train):\n",
    "    \"\"\"\n",
    "    This function plots a sample image for each category,\n",
    "    The result is a figure with 2x5 grid of images.\n",
    "    \n",
    "    \"\"\"\n",
    "    \n",
    "    #δημιουργία σχήματος 2x5 όπως στην άσκηση 1\n",
    "    fig, axes = plt.subplots(2, 5, figsize=(10, 5))\n",
    "    \n",
    "    #δημιουργία πίνακα με 10 στοιχεία\n",
    "    plot_digits = np.zeros(10, dtype=bool)\n",
    "\n",
    "    #για κάθε εικόνα και ετικέτα στο σύνολο εκπαίδευσης που παίρνει σαν είσοδο\n",
    "    for image, label in zip(X_train, y_train):\n",
    "        if not plot_digits[label]:  #ελέγχουμε αν το ψηφίο ετικέτα έχει ήδη εμφανιστεί\n",
    "            row = label // 5\n",
    "            col = label % 5\n",
    "            pos = axes[row, col]  #καθορίζουμε τη θέση στο σχήμα\n",
    "            \n",
    "            pos.imshow(image.squeeze(), cmap='gray')  #εμφάνιση της εικόνας στο σχήμα\n",
    "            pos.set_title(f'Digit: {label}')  #τίτλος ετικέτα \n",
    "            pos.axis('off') \n",
    "            \n",
    "            plot_digits[label] = True  #σημειώνουμε ότι το ψηφίο εμφανίστηκε\n",
    "            if np.all(plot_digits):  #αν όλα τα ψηφία έχουν εμφανιστεί,κάνω break από την συνάρτηση\n",
    "                break\n",
    "\n",
    "    plt.tight_layout()  #βελτίωση τη διάταξη του σχήματος\n",
    "    plt.figure()  #εμφανίζουμε το σχήμα"
   ]
  },
  {
   "cell_type": "code",
   "execution_count": 23,
   "metadata": {
    "id": "BNCBDoFnN8B5"
   },
   "outputs": [
    {
     "data": {
      "image/png": "[encoded data removed]",
      "text/plain": [
       "<Figure size 1000x500 with 10 Axes>"
      ]
     },
     "metadata": {},
     "output_type": "display_data"
    },
    {
     "data": {
      "text/plain": [
       "<Figure size 640x480 with 0 Axes>"
      ]
     },
     "metadata": {},
     "output_type": "display_data"
    }
   ],
   "source": [
    "# PLOT CODE: DO NOT CHANGE\n",
    "# This code is for you to plot the results.\n",
    "\n",
    "plot_mnist_sample_high_res(X_train, y_train)"
   ]
  },
  {
   "cell_type": "markdown",
   "metadata": {
    "id": "6Wu-weDbqEAY"
   },
   "source": [
    "### Ζήτημα 2.2:  Εκπαίδευση Νευρωνικού Δικτύου με PyTorch [5 μονάδες]\n",
    "Ακολουθεί ένα τμήμα βοηθητικού κώδικα για την εκπαίδευση των βαθιών νευρωνικών δικτύων (Deep Neural Networks - DNN).\n",
    "\n",
    "- Ολοκληρώστε τη συνάρτηση train_net() για το παρακάτω DNN.\n",
    "\n",
    "Θα πρέπει να συμπεριλάβετε τις λειτουργίες της διαδικασίας της εκπαίδευσης σε αυτή τη συνάρτηση. Αυτό σημαίνει ότι για μια παρτίδα/υποσύνολο δεδομένων (batch μεγέθους 50) πρέπει να αρχικοποιήσετε τις παραγώγους, να υλοποιήσετε τη διάδοση προς τα εμπρός της πληροφορίας (forward propagation), να υπολογίσετε το σφάλμα εκτίμησης, να κάνετε οπισθοδιάδοση της πληροφορίας (μετάδοση προς τα πίσω των παραγώγων σφάλματος ως προς τα βάρη - backward propagation), και τέλος, να ενημερώσετε τις παραμέτρους (weight update). Θα πρέπει να επιλέξετε μια κατάλληλη συνάρτηση απώλειας και βελτιστοποιητή (optimizer) από την βιβλιοθήκη PyTorch για αυτό το πρόβλημα.\n",
    "\n",
    "Αυτή η συνάρτηση θα χρησιμοποιηθεί στα επόμενα ζητήματα με διαφορετικά δίκτυα. Θα μπορείτε δηλαδή να χρησιμοποιήσετε τη μέθοδο `train_net` για να εκπαιδεύσετε το βαθύ νευρωνικό σας δίκτυο, εφόσον προσδιορίσετε τη συγκεκριμένη αρχιτεκτονική σας και εφαρμόσετε το `forward pass` σε μια υπο/κλάσση της DNN (βλ. παράδειγμα \"LinearClassifier(DNN)\").\n",
    "Μπορείτε να ανατρέξετε στη διεύθυνση https://pytorch.org/tutorials/beginner/pytorch_with_examples.html για περισσότερες πληροφορίες.\n",
    "Επίσης, ένα αρκετά χρήσιμο \"tutorial\" περιλαμβάνεται στο σημειωματάριο jupyter `(tutorial1_pytorch_introduction.ipynb)` στο φάκελο της αναρτημένης εργασίας στη σελίδα ecourse του μαθήματος.\n",
    "\n",
    "Στο τέλος, μπορείτε να χρησιμοποιήσετε την υφιστάμενη υλοποίηση από την 1η άσκηση για την αξιολόγηση της απόδοσης (`Confusion` και `VisualizeConfussion`)."
   ]
  },
  {
   "cell_type": "code",
   "execution_count": 24,
   "metadata": {
    "id": "Ky0FksEwqDta"
   },
   "outputs": [],
   "source": [
    "# base class for your deep neural networks. It implements the training loop (train_net).\n",
    "\n",
    "\n",
    "import torch.nn.init\n",
    "import torch.optim as optim\n",
    "from torch.autograd import Variable\n",
    "from torch.nn.parameter import Parameter\n",
    "from tqdm import tqdm\n",
    "from scipy.stats import truncnorm\n",
    "\n",
    "class DNN(nn.Module):\n",
    "    def __init__(self):\n",
    "        super(DNN, self).__init__()\n",
    "        pass\n",
    "    def forward(self, x):\n",
    "           x = x.view(x.size(0), -1) \n",
    "           return self.fc(x)\n",
    "   #συνάρτηση εκπαίδευσης\n",
    "    def train_net(self, X_train, y_train, epochs=10, batchSize=50):\n",
    "        #βήματα\n",
    "        # criterion selection, i.e, loss function\n",
    "        # optimizer selection, using `optim.`\n",
    "        # For each epoch\n",
    "          # For each batch\n",
    "          # Assign inputs and labels using PyTorch's autograd package via Variable\n",
    "          # Forward pass\n",
    "          # Backward pass\n",
    "          # Weight update\n",
    "          # Final loss\n",
    "        \n",
    "        #ορισμός της συνάρτησης απώλειας και του βελτιστοποιητή\n",
    "        #επιλογή συνάρτησης απώλειας(Loss function) της CrossEntropyLoss\n",
    "        criterion = nn.CrossEntropyLoss()\n",
    "        #επιλογή βελτιστοποιητή(Optimizer),SGD\n",
    "        optimizer = optim.SGD(self.parameters(), lr=0.01, momentum=0.9) \n",
    "        \n",
    "        #μετατροπή των δεδομένων σε Tensors\n",
    "        X_train = torch.tensor(X_train, dtype=torch.float32)#δεδομένα εκπαίδευσης\n",
    "        y_train = torch.tensor(y_train, dtype=torch.long)#ετικέτες\n",
    "        \n",
    "        #επαναλήψεις εκπαίδευσης για τον καθορισμένο αριθμό εποχών 10 δηλαδή\n",
    "        for epoch in range(epochs):\n",
    "            \n",
    "            running_loss = 0.0\n",
    "            # Για κάθε batch(παρτίδα) στα δεδομένα εκπαίδευσης \n",
    "            for i in tqdm(range(0, len(X_train), batchSize)):\n",
    "                #απο το κάθε batch δεδομένα και ετικέτες\n",
    "                inputs = X_train[i:i+batchSize]\n",
    "                labels = y_train[i:i+batchSize]\n",
    "                \n",
    "                #διάδοση προς τα εμπρός(Forward pass)\n",
    "                optimizer.zero_grad()  #μηδενίζουμε τις παραγώγους από την προηγούμενη επανάληψη\n",
    "                outputs = self.forward(inputs)  #υπολογισμός των εξόδων(outputs) του μοντέλου\n",
    "                \n",
    "                #υπολογισμός της απώλειας(loss)\n",
    "                loss = criterion(outputs, labels)\n",
    "                running_loss += loss.item()  #άθροισμα του loss της τρέχουσας επανάληψης\n",
    "                \n",
    "                #οπισθοδιάδοση(Backward pass)\n",
    "                loss.backward()  #υπολογισμός των παραγώγων\n",
    "                \n",
    "                #ενημέρωση των βαρών(Weight update)\n",
    "                optimizer.step()  #ενημέρωση των βαρών με βάση τους υπολογισμούς των παραγώγων\n",
    "            \n",
    "            #εκτύπωση της απώλειας για κάθε εποχή(epoch)\n",
    "            print(f\"Epoch {epoch+1}/{epochs}, Loss: {running_loss/len(X_train)}\")\n",
    "                \n",
    "                \n",
    "            \n",
    "\n",
    "    def __call__(self, x):\n",
    "        inputs = Variable(torch.FloatTensor(x))\n",
    "        prediction = self.forward(inputs)\n",
    "        return np.argmax(prediction.data.cpu().numpy(), 1)\n",
    "\n",
    "# helper function to get weight variable\n",
    "def weight_variable(shape):\n",
    "    initial = torch.Tensor(truncnorm.rvs(-1/0.01, 1/0.01, scale=0.01, size=shape))\n",
    "    return Parameter(initial, requires_grad=True)\n",
    "\n",
    "# helper function to get bias variable\n",
    "def bias_variable(shape):\n",
    "    initial = torch.Tensor(np.ones(shape)*0.1)\n",
    "    return Parameter(initial, requires_grad=True)"
   ]
  },
  {
   "cell_type": "code",
   "execution_count": 25,
   "metadata": {
    "id": "2HYVuzbtosJo"
   },
   "outputs": [],
   "source": [
    "# example linear classifier - input connected to output\n",
    "# you can take this as an example to learn how to extend DNN class\n",
    "class LinearClassifier(DNN):\n",
    "    def __init__(self, in_features=28*28, classes=10):\n",
    "        super(LinearClassifier, self).__init__()\n",
    "        # in_features=28*28\n",
    "        self.weight1 = weight_variable((classes, in_features))\n",
    "        self.bias1 = bias_variable((classes))\n",
    "    \n",
    "    def forward(self, x):\n",
    "        # linear operation\n",
    "        y_pred = torch.addmm(self.bias1, x.view(list(x.size())[0], -1), self.weight1.t())\n",
    "        return y_pred\n",
    "\n",
    "#X_train=np.float32(np.expand_dims(X_train,-1))/255\n",
    "#X_train=X_train.transpose((0,3,1,2))\n",
    "\n",
    "#X_test=np.float32(np.expand_dims(X_test,-1))/255\n",
    "#X_test=X_test.transpose((0,3,1,2))\n",
    "\n",
    "## In case abovementioned 4 lines return error: Modify the lines for transposing X_train\n",
    "## and X_test by uncommenting the following 4 lines and place the 4 lines above in comments\n",
    "\n",
    "X_train = np.float32(X_train) / 255.0\n",
    "X_train = X_train.reshape(-1,1, 28, 28)\n",
    "\n",
    "X_test = np.float32(X_test) / 255.0\n",
    "X_test = X_test.reshape(-1,1, 28, 28)\n",
    "\n"
   ]
  },
  {
   "cell_type": "code",
   "execution_count": 26,
   "metadata": {
    "id": "J-UGSj6FqRKf"
   },
   "outputs": [
    {
     "name": "stderr",
     "output_type": "stream",
     "text": [
      "100%|████████████████████████████████████████████████████████████████████████████| 1200/1200 [00:00<00:00, 2188.57it/s]\n"
     ]
    },
    {
     "name": "stdout",
     "output_type": "stream",
     "text": [
      "Epoch 1/10, Loss: 0.009176885720218221\n"
     ]
    },
    {
     "name": "stderr",
     "output_type": "stream",
     "text": [
      "100%|████████████████████████████████████████████████████████████████████████████| 1200/1200 [00:00<00:00, 2543.77it/s]\n"
     ]
    },
    {
     "name": "stdout",
     "output_type": "stream",
     "text": [
      "Epoch 2/10, Loss: 0.006605723884887994\n"
     ]
    },
    {
     "name": "stderr",
     "output_type": "stream",
     "text": [
      "100%|████████████████████████████████████████████████████████████████████████████| 1200/1200 [00:00<00:00, 2470.56it/s]\n"
     ]
    },
    {
     "name": "stdout",
     "output_type": "stream",
     "text": [
      "Epoch 3/10, Loss: 0.006199554220493883\n"
     ]
    },
    {
     "name": "stderr",
     "output_type": "stream",
     "text": [
      "100%|████████████████████████████████████████████████████████████████████████████| 1200/1200 [00:00<00:00, 2340.83it/s]\n"
     ]
    },
    {
     "name": "stdout",
     "output_type": "stream",
     "text": [
      "Epoch 4/10, Loss: 0.005983762930271527\n"
     ]
    },
    {
     "name": "stderr",
     "output_type": "stream",
     "text": [
      "100%|████████████████████████████████████████████████████████████████████████████| 1200/1200 [00:00<00:00, 2506.67it/s]\n"
     ]
    },
    {
     "name": "stdout",
     "output_type": "stream",
     "text": [
      "Epoch 5/10, Loss: 0.005842480443324894\n"
     ]
    },
    {
     "name": "stderr",
     "output_type": "stream",
     "text": [
      "100%|████████████████████████████████████████████████████████████████████████████| 1200/1200 [00:00<00:00, 2081.63it/s]\n"
     ]
    },
    {
     "name": "stdout",
     "output_type": "stream",
     "text": [
      "Epoch 6/10, Loss: 0.005739738767780364\n"
     ]
    },
    {
     "name": "stderr",
     "output_type": "stream",
     "text": [
      "100%|████████████████████████████████████████████████████████████████████████████| 1200/1200 [00:00<00:00, 2559.86it/s]\n"
     ]
    },
    {
     "name": "stdout",
     "output_type": "stream",
     "text": [
      "Epoch 7/10, Loss: 0.005660127216794838\n"
     ]
    },
    {
     "name": "stderr",
     "output_type": "stream",
     "text": [
      "100%|████████████████████████████████████████████████████████████████████████████| 1200/1200 [00:00<00:00, 2411.19it/s]\n"
     ]
    },
    {
     "name": "stdout",
     "output_type": "stream",
     "text": [
      "Epoch 8/10, Loss: 0.0055957599971443416\n"
     ]
    },
    {
     "name": "stderr",
     "output_type": "stream",
     "text": [
      "100%|████████████████████████████████████████████████████████████████████████████| 1200/1200 [00:00<00:00, 2533.04it/s]\n"
     ]
    },
    {
     "name": "stdout",
     "output_type": "stream",
     "text": [
      "Epoch 9/10, Loss: 0.005542106126714498\n"
     ]
    },
    {
     "name": "stderr",
     "output_type": "stream",
     "text": [
      "100%|████████████████████████████████████████████████████████████████████████████| 1200/1200 [00:00<00:00, 2527.71it/s]"
     ]
    },
    {
     "name": "stdout",
     "output_type": "stream",
     "text": [
      "Epoch 10/10, Loss: 0.00549634213084355\n",
      "Linear classifier accuracy: 92.100000\n"
     ]
    },
    {
     "name": "stderr",
     "output_type": "stream",
     "text": [
      "\n"
     ]
    }
   ],
   "source": [
    "# test the example linear classifier (note you should get around 90% accuracy\n",
    "# for 10 epochs and batchsize 50)\n",
    "linearClassifier = LinearClassifier()\n",
    "linearClassifier.train_net(X_train, y_train, epochs=10,batchSize=50)\n",
    "\n",
    "print ('Linear classifier accuracy: %f'%test(X_test, y_test, linearClassifier))"
   ]
  },
  {
   "cell_type": "code",
   "execution_count": 27,
   "metadata": {
    "id": "8RA5688oyNTu",
    "scrolled": true
   },
   "outputs": [
    {
     "name": "stderr",
     "output_type": "stream",
     "text": [
      "100%|██████████████████████████████████████████████████████████████████████████████| 200/200 [00:00<00:00, 5141.94it/s]\n"
     ]
    },
    {
     "data": {
      "image/png": "[encoded data removed]",
      "text/plain": [
       "<Figure size 1400x600 with 1 Axes>"
      ]
     },
     "metadata": {},
     "output_type": "display_data"
    },
    {
     "name": "stdout",
     "output_type": "stream",
     "text": [
      "[[0.98 0.   0.   0.   0.   0.   0.01 0.   0.   0.  ]\n",
      " [0.   0.98 0.   0.   0.   0.   0.   0.   0.01 0.  ]\n",
      " [0.01 0.01 0.88 0.02 0.01 0.   0.01 0.01 0.04 0.01]\n",
      " [0.   0.   0.02 0.89 0.   0.04 0.   0.01 0.02 0.01]\n",
      " [0.   0.   0.   0.   0.91 0.   0.01 0.   0.01 0.05]\n",
      " [0.01 0.   0.   0.02 0.01 0.9  0.02 0.01 0.03 0.01]\n",
      " [0.01 0.   0.   0.   0.01 0.02 0.95 0.   0.   0.  ]\n",
      " [0.   0.01 0.02 0.01 0.01 0.   0.   0.92 0.   0.04]\n",
      " [0.01 0.01 0.01 0.02 0.01 0.05 0.01 0.01 0.87 0.01]\n",
      " [0.01 0.01 0.   0.01 0.02 0.01 0.   0.02 0.   0.92]]\n"
     ]
    }
   ],
   "source": [
    "# display confusion matrix\n",
    "M, acc = Confusion(X_test, y_test, linearClassifier)\n",
    "# Οπτικοποίηση του Πίνακα Σύγχυσης\n",
    "VisualizeConfussion(M)\n"
   ]
  },
  {
   "cell_type": "markdown",
   "metadata": {
    "id": "mNzcCiLr0AU8"
   },
   "source": [
    "### Ζήτημα 2.3: Οπτικοποίηση Βαρών (Visualizing Weights of Single Layer Perceptron) [3 μονάδες]\n",
    "Αυτός ο απλός γραμμικός ταξινομητής που υλοποιείται στο παραπάνω κελί (το μοντέλο απλά επιστρέφει ένα γραμμικό συνδυασμό της εισόδου) παρουσιάζει ήδη αρκετά καλά αποτελέσματα.\n",
    "\n",
    "- Σχεδιάστε τα βάρη του φίλτρου που αντιστοιχούν σε κάθε κατηγορία εξόδου (τα **βάρη**/weights, όχι τους όρους *bias*) ως εικόνες. Κανονικοποιήστε τα βάρη ώστε να βρίσκονται μεταξύ 0 και 1 ( $z_i = \\frac{w_i - min(w)}{max(w) – min(w)}$ ). Χρησιμοποιήστε έγχρωμους χάρτες όπως \"inferno\" ή \"plasma\" για καλά αποτελέσματα (π.χ. cmap='inferno', ως όρισμα της imshow()).\n",
    "\n",
    "- Σχολιάστε με τι μοιάζουν τα βάρη και γιατί μπορεί να συμβαίνει αυτό.\n"
   ]
  },
  {
   "cell_type": "code",
   "execution_count": 28,
   "metadata": {
    "id": "Q8S3dYZgzzT_"
   },
   "outputs": [
    {
     "data": {
      "text/plain": [
       "<Figure size 640x480 with 0 Axes>"
      ]
     },
     "execution_count": 28,
     "metadata": {},
     "output_type": "execute_result"
    },
    {
     "data": {
      "image/png": "[encoded data removed]",
      "text/plain": [
       "<Figure size 1000x500 with 10 Axes>"
      ]
     },
     "metadata": {},
     "output_type": "display_data"
    },
    {
     "data": {
      "text/plain": [
       "<Figure size 640x480 with 0 Axes>"
      ]
     },
     "metadata": {},
     "output_type": "display_data"
    }
   ],
   "source": [
    "# Plot filter weights corresponding to each class, you may have to reshape them to make sense out of them\n",
    "# linearClassifier.weight1.data will give you the first layer weights\n",
    "import matplotlib.pyplot as plt\n",
    "import numpy as np\n",
    "\n",
    "#ανάκτηση των βαρών πρώτου επιπέδου και μετατροπή σε numoy για απεικόνιση\n",
    "weights = linearClassifier.weight1.data.numpy()\n",
    "\n",
    "#κανονικοποίηση των βαρών ώστε να βρίσκονται μεταξύ 0 και 1 συμφωνα με τον μηχανισμό z1 \n",
    "weights_min = np.min(weights, axis=1, keepdims=True)#ελάχιστο βάρος για κάθε κατηγορία\n",
    "weights_max = np.max(weights, axis=1, keepdims=True)#μέγιστο βάρος \n",
    "normalized_weights = (weights - weights_min) / (weights_max - weights_min)\n",
    "\n",
    "#ανασχηματισμός των βαρών σε 28x28 εικόνες απο μονοδιάστατο πίνακα σύμφωνα με την reshape\n",
    "reshaped_weights = normalized_weights.reshape(-1, 28, 28)\n",
    "\n",
    "#απεικόνιση των βαρών\n",
    "#δημιουργία σχήματος 2x5\n",
    "fig, axes = plt.subplots(2, 5, figsize=(10, 5))\n",
    "#απεικόνιση των βαρών για κάθε κατηγορία\n",
    "#iterate σε όλους τους άξονες μέσω flat\n",
    "for i, pos in enumerate(axes.flat):\n",
    "    #χάρτης inferno\n",
    "    pos.imshow(reshaped_weights[i], cmap='inferno')\n",
    "    pos.set_title(f'Class {i}')\n",
    "    pos.axis('off')\n",
    "    \n",
    "plt.figure()"
   ]
  },
  {
   "cell_type": "markdown",
   "metadata": {
    "id": "zmQUOBNg0PkW"
   },
   "source": [
    "#### Σχολιασμός των βαρών\n",
    "\"\"\" Αρχικά μας ζητήθηκε απεικόνιση των βαρών του παραπάνω γραμμικού ταξινομητή που υλοποιήθηκε, πράγμα με το οποίο θα μπορεσουμε να κατανοήσουμε την σχέση μεταξύ εισόδων και εξόδων του μοντέλου,δηλαδη αντιπροσωπεύουν την ποσοτητα με την οποια καθε εισοδος(pixel) επηρεαζει την απόφαση του μοντέλου.Σύμφωνα με την απεικόνιση βαρών για κάθε κατηγορία μέσω εικόνων,περιοχές με μεγαλύτερα βάρη είναι πιο σημαντικές για την πρόβλεψη της συγκεκριμένης κατηγορίας ενω σκοτεινότερες περιοχές είναι λιγότερο σημαντικές για την πρόβλεψη της κατηγορίας αυτής.Όσον αφορά αυτό, παρατηρήθηκε ότι για την κατηγορία 1,5 οι εικόνες είναι πιο σκοτεινές,αυτό σημαινει ότι τα χαρακτηριστικά αυτών των κατηγοριών για αναγνώριση είναι λιγότερο καθαρά σε σχέση με άλλα,αντίθετα οι κατηγορίες ψηφίων 0,2,7 είναι πιο ανοιχτές,το οποίο σημαινει ότι έχει εντοπίσει το μόντελο πιο έντονα χαρακτηριστικά για αναγνώριση αυτών.\"\"\""
   ]
  },
  {
   "cell_type": "markdown",
   "metadata": {
    "id": "gJBWgsBE0S7K"
   },
   "source": [
    "### Ζήτημα 2.4: Νευρωνικό δίκτυο πολλαπλών επιπέδων - Multi Layer Perceptron (MLP) [6 μονάδες]\n",
    "Θα υλοποιήσετε ένα MLP νευρωνικό δίκτυο. Το MLP θα πρέπει να αποτελείται από 2 επίπεδα (πολλαπλασιασμός βάρους και μετατόπιση μεροληψίας/bias - γραμμικός συνδυασμός εισόδου) που απεικονίζονται (map) στις ακόλουθες διαστάσεις χαρακτηριστικών:\n",
    "\n",
    "* 28x28 -> hidden (50)\n",
    "* hidden (50) -> classes\n",
    "\n",
    "* Το κρυμμένο επίπεδο πρέπει να ακολουθείται από μια μη γραμμική συνάρτηση ενεργοποίησης ReLU. Το τελευταίο επίπεδο δεν θα πρέπει να έχει εφαρμογή μη γραμμικής απεικόνισης καθώς επιθυμούμε την έξοδο ακατέργαστων 'logits' (στη μηχανική μάθηση, τα logits είναι οι τιμές που παράγονται από το τελικό επίπεδο ενός μοντέλου πριν περάσουν από μια συνάρτηση ενεργοποίησης softmax. Αντιπροσωπεύουν τις προβλέψεις του μοντέλου για κάθε κατηγορία χωρίς να μετατρέπονται σε πιθανότητες).\n",
    "* Η τελική έξοδος του υπολογιστικού γράφου (μοντέλου) θα πρέπει να αποθηκευτεί στο self.y καθώς θα χρησιμοποιηθεί στην εκπαίδευση.\n",
    "* Θα πρέπει να χρησιμοποιήσετε τις helper ρουτίνες `weight_variable` και `bias_variable` στην υλοποίησή σας.\n",
    "\n",
    "**Εμφανίστε τον πίνακα σύγχυσης** (confusion matrix - υλοποίηση 1ης άσκησης) και την ακρίβεια (accuracy) μετά την εκπαίδευση. Σημείωση: Θα πρέπει να έχετε ~95-97% ακρίβεια για 10 εποχές (epochs) και μέγεθος παρτίδας (batch size) 50.\n",
    "\n",
    "**Απεικονίστε τα βάρη** του φίλτρου που αντιστοιχούν στην αντιστοίχιση από τις εισόδους στις πρώτες 10 εξόδους του κρυμμένου επιπέδου (από τις 50 συνολικά). Μοιάζουν τα βάρη αυτά καθόλου με τα βάρη που απεικονίστηκαν στο προηγούμενο ζήτημα; Γιατί ή γιατί όχι?\n",
    "\n",
    "Αναμένεται ότι το μοντέλο εκπαίδευσης θα διαρκέσει από 1 έως μερικά λεπτά για να τρέξει, ανάλογα με τις δυνατότητες της CPU."
   ]
  },
  {
   "cell_type": "code",
   "execution_count": 29,
   "metadata": {
    "id": "Ss2lUgpL0JRh"
   },
   "outputs": [
    {
     "name": "stderr",
     "output_type": "stream",
     "text": [
      "100%|████████████████████████████████████████████████████████████████████████████| 1200/1200 [00:00<00:00, 1650.49it/s]\n"
     ]
    },
    {
     "name": "stdout",
     "output_type": "stream",
     "text": [
      "Epoch 1/10, Loss: 0.04160637952287992\n"
     ]
    },
    {
     "name": "stderr",
     "output_type": "stream",
     "text": [
      "100%|████████████████████████████████████████████████████████████████████████████| 1200/1200 [00:00<00:00, 1713.96it/s]\n"
     ]
    },
    {
     "name": "stdout",
     "output_type": "stream",
     "text": [
      "Epoch 2/10, Loss: 0.03384193928043048\n"
     ]
    },
    {
     "name": "stderr",
     "output_type": "stream",
     "text": [
      "100%|████████████████████████████████████████████████████████████████████████████| 1200/1200 [00:00<00:00, 1634.79it/s]\n"
     ]
    },
    {
     "name": "stdout",
     "output_type": "stream",
     "text": [
      "Epoch 3/10, Loss: 0.03264931131402651\n"
     ]
    },
    {
     "name": "stderr",
     "output_type": "stream",
     "text": [
      "100%|████████████████████████████████████████████████████████████████████████████| 1200/1200 [00:00<00:00, 1621.33it/s]\n"
     ]
    },
    {
     "name": "stdout",
     "output_type": "stream",
     "text": [
      "Epoch 4/10, Loss: 0.03155400048096975\n"
     ]
    },
    {
     "name": "stderr",
     "output_type": "stream",
     "text": [
      "100%|████████████████████████████████████████████████████████████████████████████| 1200/1200 [00:00<00:00, 1605.04it/s]\n"
     ]
    },
    {
     "name": "stdout",
     "output_type": "stream",
     "text": [
      "Epoch 5/10, Loss: 0.03120200098156929\n"
     ]
    },
    {
     "name": "stderr",
     "output_type": "stream",
     "text": [
      "100%|████████████████████████████████████████████████████████████████████████████| 1200/1200 [00:00<00:00, 1671.26it/s]\n"
     ]
    },
    {
     "name": "stdout",
     "output_type": "stream",
     "text": [
      "Epoch 6/10, Loss: 0.031040076957146327\n"
     ]
    },
    {
     "name": "stderr",
     "output_type": "stream",
     "text": [
      "100%|████████████████████████████████████████████████████████████████████████████| 1200/1200 [00:00<00:00, 1607.74it/s]\n"
     ]
    },
    {
     "name": "stdout",
     "output_type": "stream",
     "text": [
      "Epoch 7/10, Loss: 0.030927594021956127\n"
     ]
    },
    {
     "name": "stderr",
     "output_type": "stream",
     "text": [
      "100%|████████████████████████████████████████████████████████████████████████████| 1200/1200 [00:00<00:00, 1630.37it/s]\n"
     ]
    },
    {
     "name": "stdout",
     "output_type": "stream",
     "text": [
      "Epoch 8/10, Loss: 0.030837533432245254\n"
     ]
    },
    {
     "name": "stderr",
     "output_type": "stream",
     "text": [
      "100%|████████████████████████████████████████████████████████████████████████████| 1200/1200 [00:00<00:00, 1663.90it/s]\n"
     ]
    },
    {
     "name": "stdout",
     "output_type": "stream",
     "text": [
      "Epoch 9/10, Loss: 0.030760724725325903\n"
     ]
    },
    {
     "name": "stderr",
     "output_type": "stream",
     "text": [
      "100%|████████████████████████████████████████████████████████████████████████████| 1200/1200 [00:00<00:00, 1678.11it/s]"
     ]
    },
    {
     "name": "stdout",
     "output_type": "stream",
     "text": [
      "Epoch 10/10, Loss: 0.030693498651186625\n"
     ]
    },
    {
     "name": "stderr",
     "output_type": "stream",
     "text": [
      "\n"
     ]
    }
   ],
   "source": [
    "class MLPClassifer(DNN):\n",
    "    def __init__(self, in_features=28*28, classes=10, hidden=50):\n",
    "        \"\"\"\n",
    "        Initialize weight and bias variables\n",
    "        \"\"\"\n",
    "        super(MLPClassifer, self).__init__()\n",
    "        \n",
    "        #επίπεδο εισόδου in_features=28*28 σε κρυφο επιπέδο hidden=50\n",
    "        # προσδιορισμός βαρών και bias απο βοηθήτικες συναρτήσεις weight_variable και bias_variable για το κρυφό επίπεδο\n",
    "        self.W_hidden = weight_variable((in_features, hidden))\n",
    "        self.b_hidden = bias_variable((hidden,))\n",
    "        #κρυφό επίπεδο hidden=50 σε κατήγορίες εξόδου class\n",
    "        # προσδιορισμός βαρών και bias απο βοηθήτικες συναρτήσεις weight_variable και bias_variable για το επίπεδο εξόδου\n",
    "        self.W_output = weight_variable((hidden, classes))\n",
    "        self.b_output = bias_variable((classes,))\n",
    "        \n",
    "        #Συνάρτηση ενεργοποίησης Relu\n",
    "        self.relu = nn.ReLU()\n",
    "       \n",
    "    #forward καλείται αυτόματα μέσω της call απο την κλάση γονέα όταν γίνεται πρόβλεωη για νέα δεδομένα \n",
    "    #πραγματοποιείται εκπαίδευση του μοντέλου\n",
    "    def forward(self, x):\n",
    "        #υπολογίζουμε γραμμικό συνδυασμό εισόδων και βαρών,προσθέτουμε τους όρους bias και στην συνέχεια εφαρμόζουμε την συνάρτηση ενεργοποίησης \n",
    "        #ReLU στο κρυφό επίπεδο .Στο τελευταίο επίπεδο δεν χρησιμοποιούμε μη γραμμική συνάρτηση ενεργοποίησης διότι θέλουμε raw logits,μέθοδος train_net\n",
    "        ##\n",
    "        \"\"\"\n",
    "        Forward pass through the network\n",
    "        \"\"\"\n",
    "        # μετατρέπω την αρχική είσοδο 28*28 σε ένα δίανυσμα μεσω της view \n",
    "        x = x.view(x.size(0), -1)  #αναδιπλώνω από (batch_size, in_features)\n",
    "        \n",
    "        #εφαρμογή συνάρτησης ενεργοποίησης ReLU μέσω του γραμμικού συνδυασμού εισόδων και βαρών προσθέτοντας και το bias χρησιμοποιώντας την συνάρτηση matmul\n",
    "        matmul=torch.matmul(x, self.W_hidden) + self.b_hidden\n",
    "        hidden_out = self.relu(matmul)\n",
    "        \n",
    "        #υπολογίσμός των logits όπου είναι επίσης ο γραμμικός συνδυασμός εισόδων και βαρών προσθέτοντας και το bias του προηγούμενου επιπέδου χρησιμοποιώντας και πάλι την συνάρτηση matmul\n",
    "        logits = torch.matmul(hidden_out, self.W_output) + self.b_output  \n",
    "\n",
    "        #εφαρμογή softmax στα logits\n",
    "        probabilities = F.softmax(logits, dim=1)  # Μετατροπή σε πιθανότητες dim=1 σε κάθε γραμμή του πίνακα logits\n",
    "        self.y = probabilities  # Αποθήκευση πιθανοτήτων σε self.y \n",
    "        \n",
    "        return probabilities\n",
    "\n",
    "mlpClassifer = MLPClassifer()\n",
    "mlpClassifer.train_net(X_train, y_train, epochs=10, batchSize=50)"
   ]
  },
  {
   "cell_type": "code",
   "execution_count": 30,
   "metadata": {
    "id": "R-4xraHl0muj"
   },
   "outputs": [
    {
     "name": "stderr",
     "output_type": "stream",
     "text": [
      "100%|██████████████████████████████████████████████████████████████████████████████| 200/200 [00:00<00:00, 3518.02it/s]"
     ]
    },
    {
     "name": "stdout",
     "output_type": "stream",
     "text": [
      "Confusion matrix - MLP classifier accuracy: 0.092942\n",
      "MLP classifier accuracy: 93.030000\n"
     ]
    },
    {
     "name": "stderr",
     "output_type": "stream",
     "text": [
      "\n"
     ]
    },
    {
     "data": {
      "image/png": "[encoded data removed]",
      "text/plain": [
       "<Figure size 1400x600 with 1 Axes>"
      ]
     },
     "metadata": {},
     "output_type": "display_data"
    },
    {
     "name": "stdout",
     "output_type": "stream",
     "text": [
      "[[0.98 0.   0.   0.   0.   0.01 0.01 0.   0.   0.  ]\n",
      " [0.   0.97 0.   0.   0.   0.   0.   0.   0.01 0.  ]\n",
      " [0.01 0.   0.92 0.01 0.01 0.   0.01 0.01 0.02 0.01]\n",
      " [0.   0.   0.02 0.92 0.   0.03 0.   0.01 0.01 0.01]\n",
      " [0.   0.   0.   0.   0.92 0.   0.02 0.   0.   0.05]\n",
      " [0.01 0.   0.   0.03 0.01 0.9  0.01 0.   0.02 0.01]\n",
      " [0.01 0.   0.   0.   0.01 0.01 0.95 0.   0.   0.  ]\n",
      " [0.   0.01 0.02 0.   0.01 0.   0.   0.94 0.   0.02]\n",
      " [0.01 0.   0.01 0.02 0.01 0.04 0.01 0.02 0.87 0.  ]\n",
      " [0.01 0.01 0.   0.01 0.02 0.02 0.   0.01 0.   0.92]]\n"
     ]
    }
   ],
   "source": [
    "# Plot confusion matrix\n",
    "M_mlp,acc_mlp = Confusion(X_test, y_test, mlpClassifer)\n",
    "\n",
    "print ('Confusion matrix - MLP classifier accuracy: %f'%acc_mlp)\n",
    "\n",
    "# Check also standard accucary of test() for consistency\n",
    "print ('MLP classifier accuracy: %f'%test(X_test, y_test, mlpClassifer))\n",
    "\n",
    "VisualizeConfussion(M_mlp)"
   ]
  },
  {
   "cell_type": "code",
   "execution_count": 31,
   "metadata": {
    "id": "FLD0yjHH0bVU"
   },
   "outputs": [
    {
     "data": {
      "text/plain": [
       "<Figure size 640x480 with 0 Axes>"
      ]
     },
     "execution_count": 31,
     "metadata": {},
     "output_type": "execute_result"
    },
    {
     "data": {
      "image/png": "[encoded data removed]",
      "text/plain": [
       "<Figure size 1000x500 with 10 Axes>"
      ]
     },
     "metadata": {},
     "output_type": "display_data"
    },
    {
     "data": {
      "text/plain": [
       "<Figure size 640x480 with 0 Axes>"
      ]
     },
     "metadata": {},
     "output_type": "display_data"
    }
   ],
   "source": [
    "# Plot filter weights\n",
    "import matplotlib.pyplot as plt\n",
    "\n",
    "# ανάκτηση των βαρών του κρυμμενου επιπέδου\n",
    "weights_hidden = mlpClassifer.W_hidden.data.cpu().numpy()\n",
    "\n",
    "# κανονικοποίηση των βαρών ώστε να βρίσκονται μεταξύ 0 και 1 σύμφωνα με τον μηχανισμό z1 από την προηγούμενη άσκηση\n",
    "weights_min = np.min(weights_hidden, axis=0, keepdims=True)  # Ελάχιστο βάρος για κάθε κατηγορία\n",
    "weights_max = np.max(weights_hidden, axis=0, keepdims=True)  # Μέγιστο βάρος\n",
    "normalized_weights = (weights_hidden - weights_min) / (weights_max - weights_min)\n",
    "\n",
    "# Ανασχηματισμός των βαρών σε 28x28 εικόνες από μονοδιάστατο πίνακα\n",
    "reshaped_weights = normalized_weights[:, :10].reshape(10, 28, 28)  # Λαμβάνουμε μόνο τα πρώτα 10 βάρη\n",
    "\n",
    "# Απεικόνιση των βαρών για κάθε κατηγορία\n",
    "#Δημιουργία σχήματος 2x5\n",
    "fig, axes = plt.subplots(2, 5, figsize=(10, 5))\n",
    "# Απεικόνιση των βαρών για κάθε νευρώνα\n",
    "#iterate σε όλους τους άξονες μέσω flat\n",
    "for i, pos in enumerate(axes.flat):\n",
    "    pos.imshow(reshaped_weights[i], cmap='inferno')\n",
    "    pos.set_title(f'Neuron {i+1}')\n",
    "    pos.axis('off')\n",
    "\n",
    "plt.figure()"
   ]
  },
  {
   "cell_type": "code",
   "execution_count": 32,
   "metadata": {},
   "outputs": [
    {
     "data": {
      "text/plain": [
       "'Τα βάρη στο MLP δεν έχουν αναγνωρίσιμη δομή σε σχέση με τα βάρη στο linear classifier.Στο linear classifier τα βάρη αντιπροσωπέυουν κάθε κατηγορία\\n    είναι πιο κατανόητα επειδη υπάρχει στον συγκεκριμένο μηχανισμό υπάρχει άμεση συσχέτιση μεταξύ εισόδου και εξόδου,ενώ στο MLP τα βάρη είναι \\n    πιο περίπλοκα αντιστοιχίσμα μεταξύ εισόδου και εξόδου κάθε νευρώνα.'"
      ]
     },
     "execution_count": 32,
     "metadata": {},
     "output_type": "execute_result"
    }
   ],
   "source": [
    "\"\"\"Τα βάρη στο MLP δεν έχουν αναγνωρίσιμη δομή σε σχέση με τα βάρη στο linear classifier.Στο linear classifier τα βάρη αντιπροσωπέυουν κάθε κατηγορία\n",
    "    είναι πιο κατανόητα επειδη υπάρχει στον συγκεκριμένο μηχανισμό υπάρχει άμεση συσχέτιση μεταξύ εισόδου και εξόδου,ενώ στο MLP τα βάρη είναι \n",
    "    πιο περίπλοκα αντιστοιχίσμα μεταξύ εισόδου και εξόδου κάθε νευρώνα.\"\"\""
   ]
  },
  {
   "cell_type": "markdown",
   "metadata": {
    "id": "tBC6s9qQ1KKj"
   },
   "source": [
    "### Ζήτημα 2.5: Συνελικτικό Νευρωνικό Δίκτυο - Convolutional Neural Network (CNN) [`bonus`  5 μονάδες]\n",
    "Εδώ θα υλοποιήσετε ένα CNN με την ακόλουθη αρχιτεκτονική:\n",
    "\n",
    "* n=10 (output features or filters)\n",
    "* ReLU( Conv(kernel_size=5x5, stride=2, output_features=n) )\n",
    "* ReLU( Conv(kernel_size=5x5, stride=2, output_features=n*2) )\n",
    "* ReLU( Linear(hidden units = 64) )\n",
    "* Linear(output_features=classes)\n",
    "\n",
    "Δηλαδή, 2 συνελικτικά επίπεδα (Conv Layers) όπου απεικονίζουν μη-γραμμικά (ReLU) την είσοδο του προηγούμενου επιπέδου, ακολουθούμενα από 1 πλήρως συνδεδεμένο κρυμμένο επίπεδο (FC hidden layer) με μη γραμμική ενεργοποίηση (ReLU) και μετά το επίπεδο εξόδου (output layer) όπου συνδυάζει γραμμικά τις τιμές του προηγούμενου επιπέδου.\n",
    "\n",
    "Εμφανίστε τον πίνακα σύγχυσης και την ακρίβεια μετά την εκπαίδευση. Θα πρέπει να έχετε περίπου ~98% ακρίβεια για 10 εποχές και μέγεθος παρτίδας 50.<br><br>\n",
    "\n",
    "**Σημείωση: Δεν επιτρέπεται να χρησιμοποιείτε τις torch.nn.Conv2d() και torch.nn.Linear(). Η χρήση αυτών θα οδηγήσει σε αφαίρεση μονάδων. Χρησιμοποιήστε τις δηλωμένες συναρτήσεις conv2d(), weight_variable() και bias_variable().** Ωστόσο στην πράξη, όταν προχωρήσετε μετά από αυτό το μάθημα, θα χρησιμοποιήσετε torch.nn.Conv2d() που κάνει τη ζωή πιο εύκολη και αποκρύπτει όλες τις υποφαινόμενες λειτουργίες.\n",
    "\n",
    "**Μην** ξεχάσετε να σχολιάσετε τον κώδικά σας όπου χρειάζεται (π.χ. στον τρόπο υπολογισμού των διαστάσεων της εξόδου σε κάθε επίπεδο)."
   ]
  },
  {
   "cell_type": "code",
   "execution_count": null,
   "metadata": {
    "id": "-OhmF0NM1Clj"
   },
   "outputs": [],
   "source": [
    "def conv2d(x, W, stride, bias=None):\n",
    "    # x: input\n",
    "    # W: weights (out, in, kH, kW)\n",
    "    return F.conv2d(x, W, bias, stride=stride, padding=2)\n",
    "\n",
    "# Defining a Convolutional Neural Network\n",
    "class CNNClassifer(DNN):\n",
    "    def __init__(self, classes=10, n=10):\n",
    "        super(CNNClassifer, self).__init__()\n",
    "        \"\"\" ==========\n",
    "        YOUR CODE HERE\n",
    "        ========== \"\"\"\n",
    "       \n",
    "    def forward(self, x):\n",
    "        \"\"\" ==========\n",
    "        YOUR CODE HERE\n",
    "        ========== \"\"\"\n",
    "       \n",
    "        return y \n",
    "    \n",
    "cnnClassifer = CNNClassifer()\n",
    "cnnClassifer.train_net(X_train, y_train, epochs=10, batchSize=50)"
   ]
  },
  {
   "cell_type": "code",
   "execution_count": null,
   "metadata": {
    "id": "SWkNhBgf1Sf3"
   },
   "outputs": [],
   "source": [
    "# Plot confusion matrix and print the test accuracy of the classifier\n",
    "\"\"\" ==========\n",
    "YOUR CODE HERE\n",
    " ========== \"\"\"\n",
    "\n",
    "print ('Confusion matrix - MLP classifier accuracy: %f'%acc_cnn)\n",
    "\n",
    "# Check also standard accucary of test() for consistency\n",
    "print ('MLP classifier accuracy: %f'%test(X_test, y_test, cnnClassifer))\n",
    "\n",
    "VisualizeConfussion(M_cnn)"
   ]
  },
  {
   "cell_type": "markdown",
   "metadata": {
    "id": "nHx9gSiK1xVp"
   },
   "source": [
    "* Σημειώστε ότι οι προσεγγίσεις MLP/ConvNet οδηγούν σε λίγο μεγαλύτερη ακρίβεια ταξινόμησης από την προσέγγιση K-NN. \n",
    "* Στη γενική περίπτωση, οι προσεγγίσεις Νευρωνικών Δικτύων οδηγούν σε σημαντική αύξηση της ακρίβειας, αλλά, σε αυτή την περίπτωση, εφόσον το πρόβλημα δεν είναι ιδιαίτερα δύσκολο, η αύξηση της ακρίβειας δεν είναι και τόσο υψηλή.\n",
    "* Ωστόσο, αυτό εξακολουθεί να είναι αρκετά σημαντικό, δεδομένου του γεγονότος ότι τα ConvNets που χρησιμοποιήσαμε είναι σχετικά απλά, ενώ η ακρίβεια που επιτυγχάνεται χρησιμοποιώντας το K-NN είναι αποτέλεσμα αναζήτησης σε πάνω από 60.000 εικόνες εκπαίδευσης για κάθε εικόνα ελέγχου.\n",
    "* Συνιστάται ιδιαίτερα να αναζητήσετε περισσότερα για τα νευρωνικά δίκτυα/PyTorch στη διεύθυνση<br> https://pytorch.org/tutorials/beginner/deep_learning_60min_blitz.html καθώς και στο σχετικό tutorial στην αναρτημένη εργασία στη σελίδα ecourse του μαθήματος **tutorial1_pytorch_introduction.ipynb**.\n",
    "\n",
    "\n",
    "\n",
    "## Οδηγίες υποβολής\n",
    "\n",
    "Μην ξεχάσετε να κάνετε turnin το αρχείο Jupyter notebook **και** το PDF αρχείο αυτού του notebook μαζί με το συνοδευτικό αρχείο `onoma.txt`:\n",
    "**turnin  assignment@mye046 onoma.txt assignment.ipynb assignment.pdf**\n",
    "\n",
    "Βεβαιωθείτε ότι το περιεχόμενο σε **κάθε κελί εμφανίζεται** καθαρά στο τελικό σας αρχείο PDF.\n",
    "Για να μετατρέψετε το σημειωματάριο σε PDF, μπορείτε να επιλέξετε **έναν** από τους παρακάτω τρόπους:\n",
    "\n",
    "1. Google Colab (Συνιστάται): You can `print` the web page and save as PDF (e.g. Chrome: Right click the web page $\\rightarrow$ Print... $\\rightarrow$ Choose \"Destination: Save as PDF\" and click \"Save\"). Προσοχή στην περίπτωση όπου κώδικας/σχόλια εμφανίζονται εκτός των ορίων της σελίδας. Μια λύση είναι η αλλαγή γραμμής π.χ. σε σχόλια που υπερβαίνουν το πλάτος της σελίδας.\n",
    "* Στην περίπτωση που οι εικόνες εξόδου δεν εμφανίζονται σωστά, μια λύση μέσω colab είναι (εργαλείο nbconvert):\n",
    "   * Ανέβασμα του αρχείου `assignment.ipynb` στο home directory του Colaboratory (ο κατάλογος home είναι: /content/).\n",
    "   * Εκτελέστε σε ένα κελί colab ενός νέου notebook: `!jupyter nbconvert --to html /content/assignment.ipynb`\n",
    "   * Κάνετε λήψη του assignment.html τοπικά στον υπολογιστή σας και ανοίξτε το αρχείο μέσω browser ώστε να το εξάγετε ως PDF.\n",
    "\n",
    "2. Local Jupyter/JupyterLab(Συνιστάται): You can `print` the web page and save as PDF (File $\\rightarrow$ Print... $\\rightarrow$ Choose \"Destination: Save as PDF\" and click \"Save\"). Προσοχή στην περίπτωση όπου κώδικας/σχόλια εμφανίζονται εκτός των ορίων της σελίδας. Μια λύση είναι η αλλαγή γραμμής π.χ. σε σχόλια που υπερβαίνουν το πλάτος της σελίδας.\n",
    "\n",
    "3. Local Jupyter/JupyterLab(**Συνιστάται!**): You can `export` and save as HTML (File $\\rightarrow$ Save & Export Notebook as... $\\rightarrow$ HTML). Στη συνέχεια μπορείτε να μετατρέψετε το HTML αρχείο αποθηκεύοντάς το ως PDF μέσω ενός browser."
   ]
  }
 ],
 "metadata": {
  "anaconda-cloud": {},
  "colab": {
   "collapsed_sections": [
    "jZQQIiKPnRQF",
    "aYf3GsdmpfvS",
    "6Wu-weDbqEAY",
    "mNzcCiLr0AU8",
    "zmQUOBNg0PkW",
    "7pCLEVJ_1F66"
   ],
   "provenance": []
  },
  "hide_input": false,
  "kernelspec": {
   "display_name": "Python 3 (ipykernel)",
   "language": "python",
   "name": "python3"
  },
  "language_info": {
   "codemirror_mode": {
    "name": "ipython",
    "version": 3
   },
   "file_extension": ".py",
   "mimetype": "text/x-python",
   "name": "python",
   "nbconvert_exporter": "python",
   "pygments_lexer": "ipython3",
   "version": "3.12.8"
  },
  "toc": {
   "colors": {
    "hover_highlight": "#DAA520",
    "running_highlight": "#FF0000",
    "selected_highlight": "#FFD700"
   },
   "moveMenuLeft": true,
   "nav_menu": {
    "height": "123px",
    "width": "252px"
   },
   "navigate_menu": true,
   "number_sections": true,
   "sideBar": true,
   "threshold": 4,
   "toc_cell": false,
   "toc_section_display": "block",
   "toc_window_display": false,
   "widenNotebook": false
  }
 },
 "nbformat": 4,
 "nbformat_minor": 4
}
